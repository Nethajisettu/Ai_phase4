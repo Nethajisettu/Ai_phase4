{
  "cells": [
    {
      "cell_type": "markdown",
      "metadata": {
        "id": "37puETfgRzzg"
      },
      "source": [
        "# Data Preprocessing Tools"
      ]
    },
    {
      "cell_type": "markdown",
      "metadata": {
        "id": "EoRP98MpR-qj"
      },
      "source": [
        "## Importing the libraries"
      ]
    },
    {
      "cell_type": "code",
      "execution_count": 3,
      "metadata": {
        "id": "N-qiINBQSK2g"
      },
      "outputs": [],
      "source": [
        "import numpy as np\n",
        "import matplotlib.pyplot as plt\n",
        "import pandas as pd\n",
        "import seaborn as sns"
      ]
    },
    {
      "cell_type": "code",
      "source": [
        "from google.colab import drive\n",
        "drive.mount('/content/drive')"
      ],
      "metadata": {
        "colab": {
          "base_uri": "https://localhost:8080/"
        },
        "id": "0LVNfqwR2QMj",
        "outputId": "b2900cb8-22f3-47c5-9ecf-a8a37df74c65"
      },
      "execution_count": 1,
      "outputs": [
        {
          "output_type": "stream",
          "name": "stdout",
          "text": [
            "Mounted at /content/drive\n"
          ]
        }
      ]
    },
    {
      "cell_type": "markdown",
      "metadata": {
        "id": "RopL7tUZSQkT"
      },
      "source": [
        "## Importing the dataset"
      ]
    },
    {
      "cell_type": "code",
      "execution_count": 4,
      "metadata": {
        "colab": {
          "base_uri": "https://localhost:8080/"
        },
        "id": "WwEPNDWySTKm",
        "outputId": "1706e84a-f2b1-4ee7-875a-32e77aaba8bd"
      },
      "outputs": [
        {
          "output_type": "stream",
          "name": "stderr",
          "text": [
            "<ipython-input-4-8a9e2aeac4e2>:1: DtypeWarning: Columns (10) have mixed types. Specify dtype option on import or set low_memory=False.\n",
            "  dataset = pd.read_csv('/content/drive/MyDrive/Data_Gov_Tamil_Nadu.csv',encoding='unicode_escape')\n"
          ]
        }
      ],
      "source": [
        "dataset = pd.read_csv('/content/drive/MyDrive/Data_Gov_Tamil_Nadu.csv',encoding='unicode_escape')"
      ]
    },
    {
      "cell_type": "code",
      "execution_count": 6,
      "metadata": {
        "id": "YH0hQyIq0cBi",
        "outputId": "9108882c-8872-4d71-9a5e-1ffadfb63bad",
        "colab": {
          "base_uri": "https://localhost:8080/",
          "height": 861
        }
      },
      "outputs": [
        {
          "output_type": "execute_result",
          "data": {
            "text/plain": [
              "       CORPORATE_IDENTIFICATION_NUMBER  \\\n",
              "0                               F00643   \n",
              "1                               F00721   \n",
              "2                               F00892   \n",
              "3                               F01208   \n",
              "4                               F01218   \n",
              "...                                ...   \n",
              "150866           U74997TN2016PTC112556   \n",
              "150867           U74997TN2018PTC121491   \n",
              "150868           U74997TZ2016PTC027802   \n",
              "150869           U74997TZ2018PTC030177   \n",
              "150870           U74997TZ2019PTC032491   \n",
              "\n",
              "                                             COMPANY_NAME COMPANY_STATUS  \\\n",
              "0                                        HOCHTIEFF AG,              NAEF   \n",
              "1       SUMITOMO CORPORATION (SUMITOMO SHOJI KAISHA LI...           ACTV   \n",
              "2                           SRILANKAN AIRLINES LIMITED              ACTV   \n",
              "3                                 CALTEX INDIA LIMITED              NAEF   \n",
              "4                   GE HEALTHCARE BIO-SCIENCES LIMITED              ACTV   \n",
              "...                                                   ...            ...   \n",
              "150866                    QUAD42 MEDIA PRIVATE LIMITED              ACTV   \n",
              "150867                 IYERAATHU FOODS PRIVATE LIMITED              ACTV   \n",
              "150868          POLYGAR FARM SOLUTIONS PRIVATE LIMITED              STOF   \n",
              "150869          PANDIYA AGRI SOLUTIONS PRIVATE LIMITED              ACTV   \n",
              "150870              NROOT TECHNOLOGIES PRIVATE LIMITED              ACTV   \n",
              "\n",
              "       COMPANY_CLASS           COMPANY_CATEGORY COMPANY_SUB_CATEGORY  \\\n",
              "0                NaN                        NaN                  NaN   \n",
              "1                NaN                        NaN                  NaN   \n",
              "2                NaN                        NaN                  NaN   \n",
              "3                NaN                        NaN                  NaN   \n",
              "4                NaN                        NaN                  NaN   \n",
              "...              ...                        ...                  ...   \n",
              "150866       Private  Company limited by Shares     Non-govt company   \n",
              "150867       Private  Company limited by Shares     Non-govt company   \n",
              "150868       Private  Company limited by Shares     Non-govt company   \n",
              "150869       Private  Company limited by Shares     Non-govt company   \n",
              "150870       Private  Company limited by Shares     Non-govt company   \n",
              "\n",
              "       DATE_OF_REGISTRATION REGISTERED_STATE  AUTHORIZED_CAP  PAIDUP_CAPITAL  \\\n",
              "0                01-12-1961       Tamil Nadu             0.0             0.0   \n",
              "1                       NaN       Tamil Nadu             0.0             0.0   \n",
              "2                01-03-1982       Tamil Nadu             0.0             0.0   \n",
              "3                       NaN       Tamil Nadu             0.0             0.0   \n",
              "4                       NaN       Tamil Nadu             0.0             0.0   \n",
              "...                     ...              ...             ...             ...   \n",
              "150866           19-09-2016       Tamil Nadu       1000000.0        100000.0   \n",
              "150867           16-03-2018       Tamil Nadu        100000.0        100000.0   \n",
              "150868           20-07-2016       Tamil Nadu        100000.0         20000.0   \n",
              "150869           16-03-2018       Tamil Nadu       2500000.0       1500000.0   \n",
              "150870           25-07-2019       Tamil Nadu       1500000.0       1100000.0   \n",
              "\n",
              "       INDUSTRIAL_CLASS       PRINCIPAL_BUSINESS_ACTIVITY_AS_PER_CIN  \\\n",
              "0                   NaN                         Agriculture & allied   \n",
              "1                   NaN                         Agriculture & allied   \n",
              "2                   NaN                         Agriculture & allied   \n",
              "3                   NaN                         Agriculture & allied   \n",
              "4                   NaN                         Agriculture & allied   \n",
              "...                 ...                                          ...   \n",
              "150866            74997  Real estate renting and business activities   \n",
              "150867            74997  Real estate renting and business activities   \n",
              "150868            74997  Real estate renting and business activities   \n",
              "150869            74997  Real estate renting and business activities   \n",
              "150870            74997  Real estate renting and business activities   \n",
              "\n",
              "                                REGISTERED_OFFICE_ADDRESS  \\\n",
              "0       AMBLE SIDE, NO.8(OLD NO.30),3RD FLOOR KHADER N...   \n",
              "1       FLAT NO. 6, 1st FLOOR, 113/113ARAMA NAICKEN ST...   \n",
              "2       SRILANKAN AIRLINES LIMITED, VIJAYA TOWERSNO-4,...   \n",
              "3              GOLD CREST 24 55 NORTHUSMAN ROAD T NAGAR     \n",
              "4        FF-3 Palani  Centre32 Venkat Naryan Road Nagar     \n",
              "...                                                   ...   \n",
              "150866      Old No.37, New No.5753rd Street, 9th Avenue     \n",
              "150867  G-3, G-Block, AKS Garden,11/1, 2nd Street Rama...   \n",
              "150868             31, LIC Colony (VOC Colony),Kurichi,     \n",
              "150869  10/10 C3, Venkatasamy StreetRailyway Mens Colo...   \n",
              "150870   139/1BPUDHUKOTTAI ROAD, MAPILLAI NAYAKKANPATTI     \n",
              "\n",
              "       REGISTRAR_OF_COMPANIES                   EMAIL_ADDR  \\\n",
              "0                   ROC DELHI                          NaN   \n",
              "1                   ROC DELHI           shuchi.chug@asa.in   \n",
              "2                   ROC DELHI          shree16us@yahoo.com   \n",
              "3                   ROC DELHI                          NaN   \n",
              "4                   ROC DELHI       karthick9999@yahoo.com   \n",
              "...                       ...                          ...   \n",
              "150866            ROC CHENNAI             ezhil@quad42.com   \n",
              "150867            ROC CHENNAI     sneha.creative@gmail.com   \n",
              "150868         ROC COIMBATORE    prashanthramana@gmail.com   \n",
              "150869         ROC COIMBATORE     sathishpandiya@gmail.com   \n",
              "150870         ROC COIMBATORE  nroottechnologies@gmail.com   \n",
              "\n",
              "       LATEST_YEAR_ANNUAL_RETURN LATEST_YEAR_FINANCIAL_STATEMENT  \n",
              "0                            NaN                             NaN  \n",
              "1                            NaN                             NaN  \n",
              "2                            NaN                             NaN  \n",
              "3                            NaN                             NaN  \n",
              "4                            NaN                             NaN  \n",
              "...                          ...                             ...  \n",
              "150866                31-03-2019                      31-03-2019  \n",
              "150867                       NaN                             NaN  \n",
              "150868                       NaN                             NaN  \n",
              "150869                31-03-2019                      31-03-2019  \n",
              "150870                       NaN                             NaN  \n",
              "\n",
              "[150871 rows x 17 columns]"
            ],
            "text/html": [
              "\n",
              "  <div id=\"df-d6dd153c-77fd-4cab-9f41-05ce1116e104\" class=\"colab-df-container\">\n",
              "    <div>\n",
              "<style scoped>\n",
              "    .dataframe tbody tr th:only-of-type {\n",
              "        vertical-align: middle;\n",
              "    }\n",
              "\n",
              "    .dataframe tbody tr th {\n",
              "        vertical-align: top;\n",
              "    }\n",
              "\n",
              "    .dataframe thead th {\n",
              "        text-align: right;\n",
              "    }\n",
              "</style>\n",
              "<table border=\"1\" class=\"dataframe\">\n",
              "  <thead>\n",
              "    <tr style=\"text-align: right;\">\n",
              "      <th></th>\n",
              "      <th>CORPORATE_IDENTIFICATION_NUMBER</th>\n",
              "      <th>COMPANY_NAME</th>\n",
              "      <th>COMPANY_STATUS</th>\n",
              "      <th>COMPANY_CLASS</th>\n",
              "      <th>COMPANY_CATEGORY</th>\n",
              "      <th>COMPANY_SUB_CATEGORY</th>\n",
              "      <th>DATE_OF_REGISTRATION</th>\n",
              "      <th>REGISTERED_STATE</th>\n",
              "      <th>AUTHORIZED_CAP</th>\n",
              "      <th>PAIDUP_CAPITAL</th>\n",
              "      <th>INDUSTRIAL_CLASS</th>\n",
              "      <th>PRINCIPAL_BUSINESS_ACTIVITY_AS_PER_CIN</th>\n",
              "      <th>REGISTERED_OFFICE_ADDRESS</th>\n",
              "      <th>REGISTRAR_OF_COMPANIES</th>\n",
              "      <th>EMAIL_ADDR</th>\n",
              "      <th>LATEST_YEAR_ANNUAL_RETURN</th>\n",
              "      <th>LATEST_YEAR_FINANCIAL_STATEMENT</th>\n",
              "    </tr>\n",
              "  </thead>\n",
              "  <tbody>\n",
              "    <tr>\n",
              "      <th>0</th>\n",
              "      <td>F00643</td>\n",
              "      <td>HOCHTIEFF AG,</td>\n",
              "      <td>NAEF</td>\n",
              "      <td>NaN</td>\n",
              "      <td>NaN</td>\n",
              "      <td>NaN</td>\n",
              "      <td>01-12-1961</td>\n",
              "      <td>Tamil Nadu</td>\n",
              "      <td>0.0</td>\n",
              "      <td>0.0</td>\n",
              "      <td>NaN</td>\n",
              "      <td>Agriculture &amp; allied</td>\n",
              "      <td>AMBLE SIDE, NO.8(OLD NO.30),3RD FLOOR KHADER N...</td>\n",
              "      <td>ROC DELHI</td>\n",
              "      <td>NaN</td>\n",
              "      <td>NaN</td>\n",
              "      <td>NaN</td>\n",
              "    </tr>\n",
              "    <tr>\n",
              "      <th>1</th>\n",
              "      <td>F00721</td>\n",
              "      <td>SUMITOMO CORPORATION (SUMITOMO SHOJI KAISHA LI...</td>\n",
              "      <td>ACTV</td>\n",
              "      <td>NaN</td>\n",
              "      <td>NaN</td>\n",
              "      <td>NaN</td>\n",
              "      <td>NaN</td>\n",
              "      <td>Tamil Nadu</td>\n",
              "      <td>0.0</td>\n",
              "      <td>0.0</td>\n",
              "      <td>NaN</td>\n",
              "      <td>Agriculture &amp; allied</td>\n",
              "      <td>FLAT NO. 6, 1st FLOOR, 113/113ARAMA NAICKEN ST...</td>\n",
              "      <td>ROC DELHI</td>\n",
              "      <td>shuchi.chug@asa.in</td>\n",
              "      <td>NaN</td>\n",
              "      <td>NaN</td>\n",
              "    </tr>\n",
              "    <tr>\n",
              "      <th>2</th>\n",
              "      <td>F00892</td>\n",
              "      <td>SRILANKAN AIRLINES LIMITED</td>\n",
              "      <td>ACTV</td>\n",
              "      <td>NaN</td>\n",
              "      <td>NaN</td>\n",
              "      <td>NaN</td>\n",
              "      <td>01-03-1982</td>\n",
              "      <td>Tamil Nadu</td>\n",
              "      <td>0.0</td>\n",
              "      <td>0.0</td>\n",
              "      <td>NaN</td>\n",
              "      <td>Agriculture &amp; allied</td>\n",
              "      <td>SRILANKAN AIRLINES LIMITED, VIJAYA TOWERSNO-4,...</td>\n",
              "      <td>ROC DELHI</td>\n",
              "      <td>shree16us@yahoo.com</td>\n",
              "      <td>NaN</td>\n",
              "      <td>NaN</td>\n",
              "    </tr>\n",
              "    <tr>\n",
              "      <th>3</th>\n",
              "      <td>F01208</td>\n",
              "      <td>CALTEX INDIA LIMITED</td>\n",
              "      <td>NAEF</td>\n",
              "      <td>NaN</td>\n",
              "      <td>NaN</td>\n",
              "      <td>NaN</td>\n",
              "      <td>NaN</td>\n",
              "      <td>Tamil Nadu</td>\n",
              "      <td>0.0</td>\n",
              "      <td>0.0</td>\n",
              "      <td>NaN</td>\n",
              "      <td>Agriculture &amp; allied</td>\n",
              "      <td>GOLD CREST 24 55 NORTHUSMAN ROAD T NAGAR</td>\n",
              "      <td>ROC DELHI</td>\n",
              "      <td>NaN</td>\n",
              "      <td>NaN</td>\n",
              "      <td>NaN</td>\n",
              "    </tr>\n",
              "    <tr>\n",
              "      <th>4</th>\n",
              "      <td>F01218</td>\n",
              "      <td>GE HEALTHCARE BIO-SCIENCES LIMITED</td>\n",
              "      <td>ACTV</td>\n",
              "      <td>NaN</td>\n",
              "      <td>NaN</td>\n",
              "      <td>NaN</td>\n",
              "      <td>NaN</td>\n",
              "      <td>Tamil Nadu</td>\n",
              "      <td>0.0</td>\n",
              "      <td>0.0</td>\n",
              "      <td>NaN</td>\n",
              "      <td>Agriculture &amp; allied</td>\n",
              "      <td>FF-3 Palani  Centre32 Venkat Naryan Road Nagar</td>\n",
              "      <td>ROC DELHI</td>\n",
              "      <td>karthick9999@yahoo.com</td>\n",
              "      <td>NaN</td>\n",
              "      <td>NaN</td>\n",
              "    </tr>\n",
              "    <tr>\n",
              "      <th>...</th>\n",
              "      <td>...</td>\n",
              "      <td>...</td>\n",
              "      <td>...</td>\n",
              "      <td>...</td>\n",
              "      <td>...</td>\n",
              "      <td>...</td>\n",
              "      <td>...</td>\n",
              "      <td>...</td>\n",
              "      <td>...</td>\n",
              "      <td>...</td>\n",
              "      <td>...</td>\n",
              "      <td>...</td>\n",
              "      <td>...</td>\n",
              "      <td>...</td>\n",
              "      <td>...</td>\n",
              "      <td>...</td>\n",
              "      <td>...</td>\n",
              "    </tr>\n",
              "    <tr>\n",
              "      <th>150866</th>\n",
              "      <td>U74997TN2016PTC112556</td>\n",
              "      <td>QUAD42 MEDIA PRIVATE LIMITED</td>\n",
              "      <td>ACTV</td>\n",
              "      <td>Private</td>\n",
              "      <td>Company limited by Shares</td>\n",
              "      <td>Non-govt company</td>\n",
              "      <td>19-09-2016</td>\n",
              "      <td>Tamil Nadu</td>\n",
              "      <td>1000000.0</td>\n",
              "      <td>100000.0</td>\n",
              "      <td>74997</td>\n",
              "      <td>Real estate renting and business activities</td>\n",
              "      <td>Old No.37, New No.5753rd Street, 9th Avenue</td>\n",
              "      <td>ROC CHENNAI</td>\n",
              "      <td>ezhil@quad42.com</td>\n",
              "      <td>31-03-2019</td>\n",
              "      <td>31-03-2019</td>\n",
              "    </tr>\n",
              "    <tr>\n",
              "      <th>150867</th>\n",
              "      <td>U74997TN2018PTC121491</td>\n",
              "      <td>IYERAATHU FOODS PRIVATE LIMITED</td>\n",
              "      <td>ACTV</td>\n",
              "      <td>Private</td>\n",
              "      <td>Company limited by Shares</td>\n",
              "      <td>Non-govt company</td>\n",
              "      <td>16-03-2018</td>\n",
              "      <td>Tamil Nadu</td>\n",
              "      <td>100000.0</td>\n",
              "      <td>100000.0</td>\n",
              "      <td>74997</td>\n",
              "      <td>Real estate renting and business activities</td>\n",
              "      <td>G-3, G-Block, AKS Garden,11/1, 2nd Street Rama...</td>\n",
              "      <td>ROC CHENNAI</td>\n",
              "      <td>sneha.creative@gmail.com</td>\n",
              "      <td>NaN</td>\n",
              "      <td>NaN</td>\n",
              "    </tr>\n",
              "    <tr>\n",
              "      <th>150868</th>\n",
              "      <td>U74997TZ2016PTC027802</td>\n",
              "      <td>POLYGAR FARM SOLUTIONS PRIVATE LIMITED</td>\n",
              "      <td>STOF</td>\n",
              "      <td>Private</td>\n",
              "      <td>Company limited by Shares</td>\n",
              "      <td>Non-govt company</td>\n",
              "      <td>20-07-2016</td>\n",
              "      <td>Tamil Nadu</td>\n",
              "      <td>100000.0</td>\n",
              "      <td>20000.0</td>\n",
              "      <td>74997</td>\n",
              "      <td>Real estate renting and business activities</td>\n",
              "      <td>31, LIC Colony (VOC Colony),Kurichi,</td>\n",
              "      <td>ROC COIMBATORE</td>\n",
              "      <td>prashanthramana@gmail.com</td>\n",
              "      <td>NaN</td>\n",
              "      <td>NaN</td>\n",
              "    </tr>\n",
              "    <tr>\n",
              "      <th>150869</th>\n",
              "      <td>U74997TZ2018PTC030177</td>\n",
              "      <td>PANDIYA AGRI SOLUTIONS PRIVATE LIMITED</td>\n",
              "      <td>ACTV</td>\n",
              "      <td>Private</td>\n",
              "      <td>Company limited by Shares</td>\n",
              "      <td>Non-govt company</td>\n",
              "      <td>16-03-2018</td>\n",
              "      <td>Tamil Nadu</td>\n",
              "      <td>2500000.0</td>\n",
              "      <td>1500000.0</td>\n",
              "      <td>74997</td>\n",
              "      <td>Real estate renting and business activities</td>\n",
              "      <td>10/10 C3, Venkatasamy StreetRailyway Mens Colo...</td>\n",
              "      <td>ROC COIMBATORE</td>\n",
              "      <td>sathishpandiya@gmail.com</td>\n",
              "      <td>31-03-2019</td>\n",
              "      <td>31-03-2019</td>\n",
              "    </tr>\n",
              "    <tr>\n",
              "      <th>150870</th>\n",
              "      <td>U74997TZ2019PTC032491</td>\n",
              "      <td>NROOT TECHNOLOGIES PRIVATE LIMITED</td>\n",
              "      <td>ACTV</td>\n",
              "      <td>Private</td>\n",
              "      <td>Company limited by Shares</td>\n",
              "      <td>Non-govt company</td>\n",
              "      <td>25-07-2019</td>\n",
              "      <td>Tamil Nadu</td>\n",
              "      <td>1500000.0</td>\n",
              "      <td>1100000.0</td>\n",
              "      <td>74997</td>\n",
              "      <td>Real estate renting and business activities</td>\n",
              "      <td>139/1BPUDHUKOTTAI ROAD, MAPILLAI NAYAKKANPATTI</td>\n",
              "      <td>ROC COIMBATORE</td>\n",
              "      <td>nroottechnologies@gmail.com</td>\n",
              "      <td>NaN</td>\n",
              "      <td>NaN</td>\n",
              "    </tr>\n",
              "  </tbody>\n",
              "</table>\n",
              "<p>150871 rows × 17 columns</p>\n",
              "</div>\n",
              "    <div class=\"colab-df-buttons\">\n",
              "\n",
              "  <div class=\"colab-df-container\">\n",
              "    <button class=\"colab-df-convert\" onclick=\"convertToInteractive('df-d6dd153c-77fd-4cab-9f41-05ce1116e104')\"\n",
              "            title=\"Convert this dataframe to an interactive table.\"\n",
              "            style=\"display:none;\">\n",
              "\n",
              "  <svg xmlns=\"http://www.w3.org/2000/svg\" height=\"24px\" viewBox=\"0 -960 960 960\">\n",
              "    <path d=\"M120-120v-720h720v720H120Zm60-500h600v-160H180v160Zm220 220h160v-160H400v160Zm0 220h160v-160H400v160ZM180-400h160v-160H180v160Zm440 0h160v-160H620v160ZM180-180h160v-160H180v160Zm440 0h160v-160H620v160Z\"/>\n",
              "  </svg>\n",
              "    </button>\n",
              "\n",
              "  <style>\n",
              "    .colab-df-container {\n",
              "      display:flex;\n",
              "      gap: 12px;\n",
              "    }\n",
              "\n",
              "    .colab-df-convert {\n",
              "      background-color: #E8F0FE;\n",
              "      border: none;\n",
              "      border-radius: 50%;\n",
              "      cursor: pointer;\n",
              "      display: none;\n",
              "      fill: #1967D2;\n",
              "      height: 32px;\n",
              "      padding: 0 0 0 0;\n",
              "      width: 32px;\n",
              "    }\n",
              "\n",
              "    .colab-df-convert:hover {\n",
              "      background-color: #E2EBFA;\n",
              "      box-shadow: 0px 1px 2px rgba(60, 64, 67, 0.3), 0px 1px 3px 1px rgba(60, 64, 67, 0.15);\n",
              "      fill: #174EA6;\n",
              "    }\n",
              "\n",
              "    .colab-df-buttons div {\n",
              "      margin-bottom: 4px;\n",
              "    }\n",
              "\n",
              "    [theme=dark] .colab-df-convert {\n",
              "      background-color: #3B4455;\n",
              "      fill: #D2E3FC;\n",
              "    }\n",
              "\n",
              "    [theme=dark] .colab-df-convert:hover {\n",
              "      background-color: #434B5C;\n",
              "      box-shadow: 0px 1px 3px 1px rgba(0, 0, 0, 0.15);\n",
              "      filter: drop-shadow(0px 1px 2px rgba(0, 0, 0, 0.3));\n",
              "      fill: #FFFFFF;\n",
              "    }\n",
              "  </style>\n",
              "\n",
              "    <script>\n",
              "      const buttonEl =\n",
              "        document.querySelector('#df-d6dd153c-77fd-4cab-9f41-05ce1116e104 button.colab-df-convert');\n",
              "      buttonEl.style.display =\n",
              "        google.colab.kernel.accessAllowed ? 'block' : 'none';\n",
              "\n",
              "      async function convertToInteractive(key) {\n",
              "        const element = document.querySelector('#df-d6dd153c-77fd-4cab-9f41-05ce1116e104');\n",
              "        const dataTable =\n",
              "          await google.colab.kernel.invokeFunction('convertToInteractive',\n",
              "                                                    [key], {});\n",
              "        if (!dataTable) return;\n",
              "\n",
              "        const docLinkHtml = 'Like what you see? Visit the ' +\n",
              "          '<a target=\"_blank\" href=https://colab.research.google.com/notebooks/data_table.ipynb>data table notebook</a>'\n",
              "          + ' to learn more about interactive tables.';\n",
              "        element.innerHTML = '';\n",
              "        dataTable['output_type'] = 'display_data';\n",
              "        await google.colab.output.renderOutput(dataTable, element);\n",
              "        const docLink = document.createElement('div');\n",
              "        docLink.innerHTML = docLinkHtml;\n",
              "        element.appendChild(docLink);\n",
              "      }\n",
              "    </script>\n",
              "  </div>\n",
              "\n",
              "\n",
              "<div id=\"df-6301ca03-3b24-4b96-adcf-63c0682815ac\">\n",
              "  <button class=\"colab-df-quickchart\" onclick=\"quickchart('df-6301ca03-3b24-4b96-adcf-63c0682815ac')\"\n",
              "            title=\"Suggest charts.\"\n",
              "            style=\"display:none;\">\n",
              "\n",
              "<svg xmlns=\"http://www.w3.org/2000/svg\" height=\"24px\"viewBox=\"0 0 24 24\"\n",
              "     width=\"24px\">\n",
              "    <g>\n",
              "        <path d=\"M19 3H5c-1.1 0-2 .9-2 2v14c0 1.1.9 2 2 2h14c1.1 0 2-.9 2-2V5c0-1.1-.9-2-2-2zM9 17H7v-7h2v7zm4 0h-2V7h2v10zm4 0h-2v-4h2v4z\"/>\n",
              "    </g>\n",
              "</svg>\n",
              "  </button>\n",
              "\n",
              "<style>\n",
              "  .colab-df-quickchart {\n",
              "      --bg-color: #E8F0FE;\n",
              "      --fill-color: #1967D2;\n",
              "      --hover-bg-color: #E2EBFA;\n",
              "      --hover-fill-color: #174EA6;\n",
              "      --disabled-fill-color: #AAA;\n",
              "      --disabled-bg-color: #DDD;\n",
              "  }\n",
              "\n",
              "  [theme=dark] .colab-df-quickchart {\n",
              "      --bg-color: #3B4455;\n",
              "      --fill-color: #D2E3FC;\n",
              "      --hover-bg-color: #434B5C;\n",
              "      --hover-fill-color: #FFFFFF;\n",
              "      --disabled-bg-color: #3B4455;\n",
              "      --disabled-fill-color: #666;\n",
              "  }\n",
              "\n",
              "  .colab-df-quickchart {\n",
              "    background-color: var(--bg-color);\n",
              "    border: none;\n",
              "    border-radius: 50%;\n",
              "    cursor: pointer;\n",
              "    display: none;\n",
              "    fill: var(--fill-color);\n",
              "    height: 32px;\n",
              "    padding: 0;\n",
              "    width: 32px;\n",
              "  }\n",
              "\n",
              "  .colab-df-quickchart:hover {\n",
              "    background-color: var(--hover-bg-color);\n",
              "    box-shadow: 0 1px 2px rgba(60, 64, 67, 0.3), 0 1px 3px 1px rgba(60, 64, 67, 0.15);\n",
              "    fill: var(--button-hover-fill-color);\n",
              "  }\n",
              "\n",
              "  .colab-df-quickchart-complete:disabled,\n",
              "  .colab-df-quickchart-complete:disabled:hover {\n",
              "    background-color: var(--disabled-bg-color);\n",
              "    fill: var(--disabled-fill-color);\n",
              "    box-shadow: none;\n",
              "  }\n",
              "\n",
              "  .colab-df-spinner {\n",
              "    border: 2px solid var(--fill-color);\n",
              "    border-color: transparent;\n",
              "    border-bottom-color: var(--fill-color);\n",
              "    animation:\n",
              "      spin 1s steps(1) infinite;\n",
              "  }\n",
              "\n",
              "  @keyframes spin {\n",
              "    0% {\n",
              "      border-color: transparent;\n",
              "      border-bottom-color: var(--fill-color);\n",
              "      border-left-color: var(--fill-color);\n",
              "    }\n",
              "    20% {\n",
              "      border-color: transparent;\n",
              "      border-left-color: var(--fill-color);\n",
              "      border-top-color: var(--fill-color);\n",
              "    }\n",
              "    30% {\n",
              "      border-color: transparent;\n",
              "      border-left-color: var(--fill-color);\n",
              "      border-top-color: var(--fill-color);\n",
              "      border-right-color: var(--fill-color);\n",
              "    }\n",
              "    40% {\n",
              "      border-color: transparent;\n",
              "      border-right-color: var(--fill-color);\n",
              "      border-top-color: var(--fill-color);\n",
              "    }\n",
              "    60% {\n",
              "      border-color: transparent;\n",
              "      border-right-color: var(--fill-color);\n",
              "    }\n",
              "    80% {\n",
              "      border-color: transparent;\n",
              "      border-right-color: var(--fill-color);\n",
              "      border-bottom-color: var(--fill-color);\n",
              "    }\n",
              "    90% {\n",
              "      border-color: transparent;\n",
              "      border-bottom-color: var(--fill-color);\n",
              "    }\n",
              "  }\n",
              "</style>\n",
              "\n",
              "  <script>\n",
              "    async function quickchart(key) {\n",
              "      const quickchartButtonEl =\n",
              "        document.querySelector('#' + key + ' button');\n",
              "      quickchartButtonEl.disabled = true;  // To prevent multiple clicks.\n",
              "      quickchartButtonEl.classList.add('colab-df-spinner');\n",
              "      try {\n",
              "        const charts = await google.colab.kernel.invokeFunction(\n",
              "            'suggestCharts', [key], {});\n",
              "      } catch (error) {\n",
              "        console.error('Error during call to suggestCharts:', error);\n",
              "      }\n",
              "      quickchartButtonEl.classList.remove('colab-df-spinner');\n",
              "      quickchartButtonEl.classList.add('colab-df-quickchart-complete');\n",
              "    }\n",
              "    (() => {\n",
              "      let quickchartButtonEl =\n",
              "        document.querySelector('#df-6301ca03-3b24-4b96-adcf-63c0682815ac button');\n",
              "      quickchartButtonEl.style.display =\n",
              "        google.colab.kernel.accessAllowed ? 'block' : 'none';\n",
              "    })();\n",
              "  </script>\n",
              "</div>\n",
              "    </div>\n",
              "  </div>\n"
            ]
          },
          "metadata": {},
          "execution_count": 6
        }
      ],
      "source": [
        "dataset"
      ]
    },
    {
      "cell_type": "code",
      "execution_count": 7,
      "metadata": {
        "id": "LfHhPBXd0cBi",
        "outputId": "e6f6b59c-90a5-4040-c95a-d536cd69d319",
        "colab": {
          "base_uri": "https://localhost:8080/"
        }
      },
      "outputs": [
        {
          "output_type": "stream",
          "name": "stdout",
          "text": [
            "<class 'pandas.core.frame.DataFrame'>\n",
            "RangeIndex: 150871 entries, 0 to 150870\n",
            "Data columns (total 17 columns):\n",
            " #   Column                                  Non-Null Count   Dtype  \n",
            "---  ------                                  --------------   -----  \n",
            " 0   CORPORATE_IDENTIFICATION_NUMBER         150871 non-null  object \n",
            " 1   COMPANY_NAME                            150871 non-null  object \n",
            " 2   COMPANY_STATUS                          150871 non-null  object \n",
            " 3   COMPANY_CLASS                           150537 non-null  object \n",
            " 4   COMPANY_CATEGORY                        150537 non-null  object \n",
            " 5   COMPANY_SUB_CATEGORY                    150537 non-null  object \n",
            " 6   DATE_OF_REGISTRATION                    150832 non-null  object \n",
            " 7   REGISTERED_STATE                        150871 non-null  object \n",
            " 8   AUTHORIZED_CAP                          150871 non-null  float64\n",
            " 9   PAIDUP_CAPITAL                          150871 non-null  float64\n",
            " 10  INDUSTRIAL_CLASS                        150561 non-null  object \n",
            " 11  PRINCIPAL_BUSINESS_ACTIVITY_AS_PER_CIN  150871 non-null  object \n",
            " 12  REGISTERED_OFFICE_ADDRESS               150781 non-null  object \n",
            " 13  REGISTRAR_OF_COMPANIES                  150697 non-null  object \n",
            " 14  EMAIL_ADDR                              112742 non-null  object \n",
            " 15  LATEST_YEAR_ANNUAL_RETURN               74982 non-null   object \n",
            " 16  LATEST_YEAR_FINANCIAL_STATEMENT         75089 non-null   object \n",
            "dtypes: float64(2), object(15)\n",
            "memory usage: 19.6+ MB\n"
          ]
        }
      ],
      "source": [
        "dataset.info()"
      ]
    },
    {
      "cell_type": "code",
      "execution_count": 8,
      "metadata": {
        "id": "5EkS7QLu0cBj",
        "outputId": "d5ab2f71-99b8-4138-be89-63ef1da6d9ae",
        "colab": {
          "base_uri": "https://localhost:8080/",
          "height": 300
        }
      },
      "outputs": [
        {
          "output_type": "execute_result",
          "data": {
            "text/plain": [
              "       AUTHORIZED_CAP  PAIDUP_CAPITAL\n",
              "count    1.508710e+05    1.508710e+05\n",
              "mean     3.522781e+07    2.328824e+07\n",
              "std      1.408554e+09    1.072458e+09\n",
              "min      0.000000e+00    0.000000e+00\n",
              "25%      1.000000e+05    1.000000e+05\n",
              "50%      8.000000e+05    1.000000e+05\n",
              "75%      2.000000e+06    6.857450e+05\n",
              "max      3.000000e+11    2.461235e+11"
            ],
            "text/html": [
              "\n",
              "  <div id=\"df-0428faaa-d89d-4b57-b6ae-fb029efe9ee8\" class=\"colab-df-container\">\n",
              "    <div>\n",
              "<style scoped>\n",
              "    .dataframe tbody tr th:only-of-type {\n",
              "        vertical-align: middle;\n",
              "    }\n",
              "\n",
              "    .dataframe tbody tr th {\n",
              "        vertical-align: top;\n",
              "    }\n",
              "\n",
              "    .dataframe thead th {\n",
              "        text-align: right;\n",
              "    }\n",
              "</style>\n",
              "<table border=\"1\" class=\"dataframe\">\n",
              "  <thead>\n",
              "    <tr style=\"text-align: right;\">\n",
              "      <th></th>\n",
              "      <th>AUTHORIZED_CAP</th>\n",
              "      <th>PAIDUP_CAPITAL</th>\n",
              "    </tr>\n",
              "  </thead>\n",
              "  <tbody>\n",
              "    <tr>\n",
              "      <th>count</th>\n",
              "      <td>1.508710e+05</td>\n",
              "      <td>1.508710e+05</td>\n",
              "    </tr>\n",
              "    <tr>\n",
              "      <th>mean</th>\n",
              "      <td>3.522781e+07</td>\n",
              "      <td>2.328824e+07</td>\n",
              "    </tr>\n",
              "    <tr>\n",
              "      <th>std</th>\n",
              "      <td>1.408554e+09</td>\n",
              "      <td>1.072458e+09</td>\n",
              "    </tr>\n",
              "    <tr>\n",
              "      <th>min</th>\n",
              "      <td>0.000000e+00</td>\n",
              "      <td>0.000000e+00</td>\n",
              "    </tr>\n",
              "    <tr>\n",
              "      <th>25%</th>\n",
              "      <td>1.000000e+05</td>\n",
              "      <td>1.000000e+05</td>\n",
              "    </tr>\n",
              "    <tr>\n",
              "      <th>50%</th>\n",
              "      <td>8.000000e+05</td>\n",
              "      <td>1.000000e+05</td>\n",
              "    </tr>\n",
              "    <tr>\n",
              "      <th>75%</th>\n",
              "      <td>2.000000e+06</td>\n",
              "      <td>6.857450e+05</td>\n",
              "    </tr>\n",
              "    <tr>\n",
              "      <th>max</th>\n",
              "      <td>3.000000e+11</td>\n",
              "      <td>2.461235e+11</td>\n",
              "    </tr>\n",
              "  </tbody>\n",
              "</table>\n",
              "</div>\n",
              "    <div class=\"colab-df-buttons\">\n",
              "\n",
              "  <div class=\"colab-df-container\">\n",
              "    <button class=\"colab-df-convert\" onclick=\"convertToInteractive('df-0428faaa-d89d-4b57-b6ae-fb029efe9ee8')\"\n",
              "            title=\"Convert this dataframe to an interactive table.\"\n",
              "            style=\"display:none;\">\n",
              "\n",
              "  <svg xmlns=\"http://www.w3.org/2000/svg\" height=\"24px\" viewBox=\"0 -960 960 960\">\n",
              "    <path d=\"M120-120v-720h720v720H120Zm60-500h600v-160H180v160Zm220 220h160v-160H400v160Zm0 220h160v-160H400v160ZM180-400h160v-160H180v160Zm440 0h160v-160H620v160ZM180-180h160v-160H180v160Zm440 0h160v-160H620v160Z\"/>\n",
              "  </svg>\n",
              "    </button>\n",
              "\n",
              "  <style>\n",
              "    .colab-df-container {\n",
              "      display:flex;\n",
              "      gap: 12px;\n",
              "    }\n",
              "\n",
              "    .colab-df-convert {\n",
              "      background-color: #E8F0FE;\n",
              "      border: none;\n",
              "      border-radius: 50%;\n",
              "      cursor: pointer;\n",
              "      display: none;\n",
              "      fill: #1967D2;\n",
              "      height: 32px;\n",
              "      padding: 0 0 0 0;\n",
              "      width: 32px;\n",
              "    }\n",
              "\n",
              "    .colab-df-convert:hover {\n",
              "      background-color: #E2EBFA;\n",
              "      box-shadow: 0px 1px 2px rgba(60, 64, 67, 0.3), 0px 1px 3px 1px rgba(60, 64, 67, 0.15);\n",
              "      fill: #174EA6;\n",
              "    }\n",
              "\n",
              "    .colab-df-buttons div {\n",
              "      margin-bottom: 4px;\n",
              "    }\n",
              "\n",
              "    [theme=dark] .colab-df-convert {\n",
              "      background-color: #3B4455;\n",
              "      fill: #D2E3FC;\n",
              "    }\n",
              "\n",
              "    [theme=dark] .colab-df-convert:hover {\n",
              "      background-color: #434B5C;\n",
              "      box-shadow: 0px 1px 3px 1px rgba(0, 0, 0, 0.15);\n",
              "      filter: drop-shadow(0px 1px 2px rgba(0, 0, 0, 0.3));\n",
              "      fill: #FFFFFF;\n",
              "    }\n",
              "  </style>\n",
              "\n",
              "    <script>\n",
              "      const buttonEl =\n",
              "        document.querySelector('#df-0428faaa-d89d-4b57-b6ae-fb029efe9ee8 button.colab-df-convert');\n",
              "      buttonEl.style.display =\n",
              "        google.colab.kernel.accessAllowed ? 'block' : 'none';\n",
              "\n",
              "      async function convertToInteractive(key) {\n",
              "        const element = document.querySelector('#df-0428faaa-d89d-4b57-b6ae-fb029efe9ee8');\n",
              "        const dataTable =\n",
              "          await google.colab.kernel.invokeFunction('convertToInteractive',\n",
              "                                                    [key], {});\n",
              "        if (!dataTable) return;\n",
              "\n",
              "        const docLinkHtml = 'Like what you see? Visit the ' +\n",
              "          '<a target=\"_blank\" href=https://colab.research.google.com/notebooks/data_table.ipynb>data table notebook</a>'\n",
              "          + ' to learn more about interactive tables.';\n",
              "        element.innerHTML = '';\n",
              "        dataTable['output_type'] = 'display_data';\n",
              "        await google.colab.output.renderOutput(dataTable, element);\n",
              "        const docLink = document.createElement('div');\n",
              "        docLink.innerHTML = docLinkHtml;\n",
              "        element.appendChild(docLink);\n",
              "      }\n",
              "    </script>\n",
              "  </div>\n",
              "\n",
              "\n",
              "<div id=\"df-cc9b930e-36e2-445c-8d53-db91f023b775\">\n",
              "  <button class=\"colab-df-quickchart\" onclick=\"quickchart('df-cc9b930e-36e2-445c-8d53-db91f023b775')\"\n",
              "            title=\"Suggest charts.\"\n",
              "            style=\"display:none;\">\n",
              "\n",
              "<svg xmlns=\"http://www.w3.org/2000/svg\" height=\"24px\"viewBox=\"0 0 24 24\"\n",
              "     width=\"24px\">\n",
              "    <g>\n",
              "        <path d=\"M19 3H5c-1.1 0-2 .9-2 2v14c0 1.1.9 2 2 2h14c1.1 0 2-.9 2-2V5c0-1.1-.9-2-2-2zM9 17H7v-7h2v7zm4 0h-2V7h2v10zm4 0h-2v-4h2v4z\"/>\n",
              "    </g>\n",
              "</svg>\n",
              "  </button>\n",
              "\n",
              "<style>\n",
              "  .colab-df-quickchart {\n",
              "      --bg-color: #E8F0FE;\n",
              "      --fill-color: #1967D2;\n",
              "      --hover-bg-color: #E2EBFA;\n",
              "      --hover-fill-color: #174EA6;\n",
              "      --disabled-fill-color: #AAA;\n",
              "      --disabled-bg-color: #DDD;\n",
              "  }\n",
              "\n",
              "  [theme=dark] .colab-df-quickchart {\n",
              "      --bg-color: #3B4455;\n",
              "      --fill-color: #D2E3FC;\n",
              "      --hover-bg-color: #434B5C;\n",
              "      --hover-fill-color: #FFFFFF;\n",
              "      --disabled-bg-color: #3B4455;\n",
              "      --disabled-fill-color: #666;\n",
              "  }\n",
              "\n",
              "  .colab-df-quickchart {\n",
              "    background-color: var(--bg-color);\n",
              "    border: none;\n",
              "    border-radius: 50%;\n",
              "    cursor: pointer;\n",
              "    display: none;\n",
              "    fill: var(--fill-color);\n",
              "    height: 32px;\n",
              "    padding: 0;\n",
              "    width: 32px;\n",
              "  }\n",
              "\n",
              "  .colab-df-quickchart:hover {\n",
              "    background-color: var(--hover-bg-color);\n",
              "    box-shadow: 0 1px 2px rgba(60, 64, 67, 0.3), 0 1px 3px 1px rgba(60, 64, 67, 0.15);\n",
              "    fill: var(--button-hover-fill-color);\n",
              "  }\n",
              "\n",
              "  .colab-df-quickchart-complete:disabled,\n",
              "  .colab-df-quickchart-complete:disabled:hover {\n",
              "    background-color: var(--disabled-bg-color);\n",
              "    fill: var(--disabled-fill-color);\n",
              "    box-shadow: none;\n",
              "  }\n",
              "\n",
              "  .colab-df-spinner {\n",
              "    border: 2px solid var(--fill-color);\n",
              "    border-color: transparent;\n",
              "    border-bottom-color: var(--fill-color);\n",
              "    animation:\n",
              "      spin 1s steps(1) infinite;\n",
              "  }\n",
              "\n",
              "  @keyframes spin {\n",
              "    0% {\n",
              "      border-color: transparent;\n",
              "      border-bottom-color: var(--fill-color);\n",
              "      border-left-color: var(--fill-color);\n",
              "    }\n",
              "    20% {\n",
              "      border-color: transparent;\n",
              "      border-left-color: var(--fill-color);\n",
              "      border-top-color: var(--fill-color);\n",
              "    }\n",
              "    30% {\n",
              "      border-color: transparent;\n",
              "      border-left-color: var(--fill-color);\n",
              "      border-top-color: var(--fill-color);\n",
              "      border-right-color: var(--fill-color);\n",
              "    }\n",
              "    40% {\n",
              "      border-color: transparent;\n",
              "      border-right-color: var(--fill-color);\n",
              "      border-top-color: var(--fill-color);\n",
              "    }\n",
              "    60% {\n",
              "      border-color: transparent;\n",
              "      border-right-color: var(--fill-color);\n",
              "    }\n",
              "    80% {\n",
              "      border-color: transparent;\n",
              "      border-right-color: var(--fill-color);\n",
              "      border-bottom-color: var(--fill-color);\n",
              "    }\n",
              "    90% {\n",
              "      border-color: transparent;\n",
              "      border-bottom-color: var(--fill-color);\n",
              "    }\n",
              "  }\n",
              "</style>\n",
              "\n",
              "  <script>\n",
              "    async function quickchart(key) {\n",
              "      const quickchartButtonEl =\n",
              "        document.querySelector('#' + key + ' button');\n",
              "      quickchartButtonEl.disabled = true;  // To prevent multiple clicks.\n",
              "      quickchartButtonEl.classList.add('colab-df-spinner');\n",
              "      try {\n",
              "        const charts = await google.colab.kernel.invokeFunction(\n",
              "            'suggestCharts', [key], {});\n",
              "      } catch (error) {\n",
              "        console.error('Error during call to suggestCharts:', error);\n",
              "      }\n",
              "      quickchartButtonEl.classList.remove('colab-df-spinner');\n",
              "      quickchartButtonEl.classList.add('colab-df-quickchart-complete');\n",
              "    }\n",
              "    (() => {\n",
              "      let quickchartButtonEl =\n",
              "        document.querySelector('#df-cc9b930e-36e2-445c-8d53-db91f023b775 button');\n",
              "      quickchartButtonEl.style.display =\n",
              "        google.colab.kernel.accessAllowed ? 'block' : 'none';\n",
              "    })();\n",
              "  </script>\n",
              "</div>\n",
              "    </div>\n",
              "  </div>\n"
            ]
          },
          "metadata": {},
          "execution_count": 8
        }
      ],
      "source": [
        "dataset.describe()"
      ]
    },
    {
      "cell_type": "code",
      "execution_count": 9,
      "metadata": {
        "id": "YoZShFr90cBj"
      },
      "outputs": [],
      "source": [
        "column = [\"COMPANY_STATUS\",\"COMPANY_CLASS\",\"COMPANY_CATEGORY\",\"COMPANY_SUB_CATEGORY\",\"PAIDUP_CAPITAL\"]"
      ]
    },
    {
      "cell_type": "code",
      "execution_count": 10,
      "metadata": {
        "id": "k1Iqxwls0cBl"
      },
      "outputs": [],
      "source": [
        "X = dataset.loc[:,column]\n",
        "Y = dataset.loc[:,\"AUTHORIZED_CAP\"]"
      ]
    },
    {
      "cell_type": "code",
      "execution_count": 12,
      "metadata": {
        "colab": {
          "base_uri": "https://localhost:8080/"
        },
        "id": "hCsz2yCebe1R",
        "outputId": "98c3b3b2-8412-4612-a88a-e940101b0aa6"
      },
      "outputs": [
        {
          "output_type": "stream",
          "name": "stdout",
          "text": [
            "       COMPANY_STATUS COMPANY_CLASS           COMPANY_CATEGORY  \\\n",
            "0                NAEF           NaN                        NaN   \n",
            "1                ACTV           NaN                        NaN   \n",
            "2                ACTV           NaN                        NaN   \n",
            "3                NAEF           NaN                        NaN   \n",
            "4                ACTV           NaN                        NaN   \n",
            "...               ...           ...                        ...   \n",
            "150866           ACTV       Private  Company limited by Shares   \n",
            "150867           ACTV       Private  Company limited by Shares   \n",
            "150868           STOF       Private  Company limited by Shares   \n",
            "150869           ACTV       Private  Company limited by Shares   \n",
            "150870           ACTV       Private  Company limited by Shares   \n",
            "\n",
            "       COMPANY_SUB_CATEGORY  PAIDUP_CAPITAL  \n",
            "0                       NaN             0.0  \n",
            "1                       NaN             0.0  \n",
            "2                       NaN             0.0  \n",
            "3                       NaN             0.0  \n",
            "4                       NaN             0.0  \n",
            "...                     ...             ...  \n",
            "150866     Non-govt company        100000.0  \n",
            "150867     Non-govt company        100000.0  \n",
            "150868     Non-govt company         20000.0  \n",
            "150869     Non-govt company       1500000.0  \n",
            "150870     Non-govt company       1100000.0  \n",
            "\n",
            "[150871 rows x 5 columns]\n"
          ]
        }
      ],
      "source": [
        "print(X)"
      ]
    },
    {
      "cell_type": "code",
      "execution_count": 13,
      "metadata": {
        "colab": {
          "base_uri": "https://localhost:8080/"
        },
        "id": "eYrOQ43XcJR3",
        "outputId": "36954888-93d6-4bc4-85b2-9ee53de4678c"
      },
      "outputs": [
        {
          "output_type": "stream",
          "name": "stdout",
          "text": [
            "0               0.0\n",
            "1               0.0\n",
            "2               0.0\n",
            "3               0.0\n",
            "4               0.0\n",
            "            ...    \n",
            "150866    1000000.0\n",
            "150867     100000.0\n",
            "150868     100000.0\n",
            "150869    2500000.0\n",
            "150870    1500000.0\n",
            "Name: AUTHORIZED_CAP, Length: 150871, dtype: float64\n"
          ]
        }
      ],
      "source": [
        "print(Y)"
      ]
    },
    {
      "cell_type": "markdown",
      "metadata": {
        "id": "SkOZi6PI0cBn"
      },
      "source": [
        "# Taking care of missing data"
      ]
    },
    {
      "cell_type": "code",
      "execution_count": 14,
      "metadata": {
        "id": "nh_gnakI0cBn",
        "outputId": "3c75a8b6-c84f-4ce8-c2cc-7f5bb93d5c7c",
        "colab": {
          "base_uri": "https://localhost:8080/"
        }
      },
      "outputs": [
        {
          "output_type": "execute_result",
          "data": {
            "text/plain": [
              "COMPANY_STATUS            0\n",
              "COMPANY_CLASS           334\n",
              "COMPANY_CATEGORY        334\n",
              "COMPANY_SUB_CATEGORY    334\n",
              "PAIDUP_CAPITAL            0\n",
              "dtype: int64"
            ]
          },
          "metadata": {},
          "execution_count": 14
        }
      ],
      "source": [
        "X.isnull().sum()"
      ]
    },
    {
      "cell_type": "code",
      "execution_count": 15,
      "metadata": {
        "id": "OatjF5Sv0cBn"
      },
      "outputs": [],
      "source": [
        "dataset.dropna(inplace=True)"
      ]
    },
    {
      "cell_type": "code",
      "execution_count": 16,
      "metadata": {
        "id": "qfodMYJh0cBn",
        "outputId": "c1503963-0b74-4d4c-95b0-9b6f21a3b445",
        "colab": {
          "base_uri": "https://localhost:8080/"
        }
      },
      "outputs": [
        {
          "output_type": "execute_result",
          "data": {
            "text/plain": [
              "CORPORATE_IDENTIFICATION_NUMBER           0\n",
              "COMPANY_NAME                              0\n",
              "COMPANY_STATUS                            0\n",
              "COMPANY_CLASS                             0\n",
              "COMPANY_CATEGORY                          0\n",
              "COMPANY_SUB_CATEGORY                      0\n",
              "DATE_OF_REGISTRATION                      0\n",
              "REGISTERED_STATE                          0\n",
              "AUTHORIZED_CAP                            0\n",
              "PAIDUP_CAPITAL                            0\n",
              "INDUSTRIAL_CLASS                          0\n",
              "PRINCIPAL_BUSINESS_ACTIVITY_AS_PER_CIN    0\n",
              "REGISTERED_OFFICE_ADDRESS                 0\n",
              "REGISTRAR_OF_COMPANIES                    0\n",
              "EMAIL_ADDR                                0\n",
              "LATEST_YEAR_ANNUAL_RETURN                 0\n",
              "LATEST_YEAR_FINANCIAL_STATEMENT           0\n",
              "dtype: int64"
            ]
          },
          "metadata": {},
          "execution_count": 16
        }
      ],
      "source": [
        "dataset.isnull().sum()"
      ]
    },
    {
      "cell_type": "markdown",
      "metadata": {
        "id": "zuspQ37y0cBo"
      },
      "source": [
        "# Explortary data analysis"
      ]
    },
    {
      "cell_type": "code",
      "execution_count": 17,
      "metadata": {
        "id": "n_ohrjup0cBo",
        "outputId": "d7bc3a22-6749-41f8-a806-88b17b6010e2",
        "colab": {
          "base_uri": "https://localhost:8080/"
        }
      },
      "outputs": [
        {
          "output_type": "execute_result",
          "data": {
            "text/plain": [
              "Private                        67928\n",
              "Public                          5061\n",
              "Private(One Person Company)      750\n",
              "Name: COMPANY_CLASS, dtype: int64"
            ]
          },
          "metadata": {},
          "execution_count": 17
        }
      ],
      "source": [
        "dataset[\"COMPANY_CLASS\"].value_counts()"
      ]
    },
    {
      "cell_type": "code",
      "execution_count": 18,
      "metadata": {
        "id": "A5muC9-D0cBo",
        "outputId": "87c0468d-19bc-455c-a365-09bc129fbe30",
        "colab": {
          "base_uri": "https://localhost:8080/",
          "height": 448
        }
      },
      "outputs": [
        {
          "output_type": "execute_result",
          "data": {
            "text/plain": [
              "<Axes: >"
            ]
          },
          "metadata": {},
          "execution_count": 18
        },
        {
          "output_type": "display_data",
          "data": {
            "text/plain": [
              "<Figure size 640x480 with 1 Axes>"
            ],
            "image/png": "[encoded data removed]"
          },
          "metadata": {}
        }
      ],
      "source": [
        "dataset[\"COMPANY_CLASS\"].hist(bins=5)"
      ]
    },
    {
      "cell_type": "code",
      "execution_count": 19,
      "metadata": {
        "id": "e-Jr0app0cBo",
        "outputId": "20b0be69-2d84-4ad5-ea58-d65a35f1f5d8",
        "colab": {
          "base_uri": "https://localhost:8080/"
        }
      },
      "outputs": [
        {
          "output_type": "execute_result",
          "data": {
            "text/plain": [
              "Company limited by Shares       73394\n",
              "Company Limited by Guarantee      338\n",
              "Unlimited Company                   7\n",
              "Name: COMPANY_CATEGORY, dtype: int64"
            ]
          },
          "metadata": {},
          "execution_count": 19
        }
      ],
      "source": [
        "dataset[\"COMPANY_CATEGORY\"].value_counts()"
      ]
    },
    {
      "cell_type": "code",
      "execution_count": 20,
      "metadata": {
        "id": "A-mqa8zK0cBp",
        "outputId": "a15b8ab4-29c8-4cf8-d554-3da8bff6bc6d",
        "colab": {
          "base_uri": "https://localhost:8080/",
          "height": 448
        }
      },
      "outputs": [
        {
          "output_type": "execute_result",
          "data": {
            "text/plain": [
              "<Axes: >"
            ]
          },
          "metadata": {},
          "execution_count": 20
        },
        {
          "output_type": "display_data",
          "data": {
            "text/plain": [
              "<Figure size 640x480 with 1 Axes>"
            ],
            "image/png": "[encoded data removed]"
          },
          "metadata": {}
        }
      ],
      "source": [
        "dataset[\"COMPANY_CATEGORY\"].hist(bins=5)"
      ]
    },
    {
      "cell_type": "code",
      "execution_count": 21,
      "metadata": {
        "id": "bw1nJoxc0cBp",
        "outputId": "87ac700d-39c7-4dc0-a0f9-e03639309ea9",
        "colab": {
          "base_uri": "https://localhost:8080/"
        }
      },
      "outputs": [
        {
          "output_type": "execute_result",
          "data": {
            "text/plain": [
              "Non-govt company                  72788\n",
              "Subsidiary of Foreign Company       793\n",
              "Guarantee and Association comp       74\n",
              "State Govt company                   71\n",
              "Union Govt company                   13\n",
              "Name: COMPANY_SUB_CATEGORY, dtype: int64"
            ]
          },
          "metadata": {},
          "execution_count": 21
        }
      ],
      "source": [
        "dataset[\"COMPANY_SUB_CATEGORY\"].value_counts()"
      ]
    },
    {
      "cell_type": "markdown",
      "metadata": {
        "id": "nhfKXNxlSabC"
      },
      "source": [
        "dataset[\"COMPANY_SUB_CATEGORY\"].hist(bins=5)"
      ]
    },
    {
      "cell_type": "code",
      "execution_count": 22,
      "metadata": {
        "id": "TNwwPGh60cBq",
        "outputId": "4a6a518c-1107-448f-d5f8-cd5ab521a1b3",
        "colab": {
          "base_uri": "https://localhost:8080/",
          "height": 448
        }
      },
      "outputs": [
        {
          "output_type": "execute_result",
          "data": {
            "text/plain": [
              "<Axes: >"
            ]
          },
          "metadata": {},
          "execution_count": 22
        },
        {
          "output_type": "display_data",
          "data": {
            "text/plain": [
              "<Figure size 640x480 with 1 Axes>"
            ],
            "image/png": "[encoded data removed]"
          },
          "metadata": {}
        }
      ],
      "source": [
        "dataset[\"COMPANY_SUB_CATEGORY\"].hist(bins=5)"
      ]
    },
    {
      "cell_type": "markdown",
      "metadata": {
        "id": "CriG6VzVSjcK"
      },
      "source": [
        "## Encoding categorical data"
      ]
    },
    {
      "cell_type": "markdown",
      "metadata": {
        "id": "AhSpdQWeSsFh"
      },
      "source": [
        "### Encoding the Independent Variable"
      ]
    },
    {
      "cell_type": "code",
      "execution_count": 23,
      "metadata": {
        "id": "FE-dG3Kq0cBq"
      },
      "outputs": [],
      "source": [
        "from sklearn import preprocessing\n",
        "label_encoder = preprocessing.LabelEncoder()"
      ]
    },
    {
      "cell_type": "code",
      "execution_count": 24,
      "metadata": {
        "id": "3GTWM89f0cBq"
      },
      "outputs": [],
      "source": [
        "from sklearn import preprocessing\n",
        "label_encoder = preprocessing.LabelEncoder()\n",
        "X['COMPANY_STATUS']= label_encoder.fit_transform(X['COMPANY_STATUS'])\n",
        "X['COMPANY_CLASS']= label_encoder.fit_transform(X['COMPANY_CLASS'])\n",
        "X['COMPANY_CATEGORY']= label_encoder.fit_transform(X['COMPANY_CATEGORY'])\n",
        "X['COMPANY_SUB_CATEGORY']= label_encoder.fit_transform(X['COMPANY_SUB_CATEGORY'])"
      ]
    },
    {
      "cell_type": "code",
      "execution_count": 25,
      "metadata": {
        "colab": {
          "base_uri": "https://localhost:8080/"
        },
        "id": "f7QspewyeBfx",
        "outputId": "3f1c1919-2b0b-4973-9c2e-ab775ee214a4"
      },
      "outputs": [
        {
          "output_type": "stream",
          "name": "stdout",
          "text": [
            "        COMPANY_STATUS  COMPANY_CLASS  COMPANY_CATEGORY  COMPANY_SUB_CATEGORY  \\\n",
            "0                    7              3                 3                     5   \n",
            "1                    0              3                 3                     5   \n",
            "2                    0              3                 3                     5   \n",
            "3                    7              3                 3                     5   \n",
            "4                    0              3                 3                     5   \n",
            "...                ...            ...               ...                   ...   \n",
            "150866               0              0                 1                     1   \n",
            "150867               0              0                 1                     1   \n",
            "150868               8              0                 1                     1   \n",
            "150869               0              0                 1                     1   \n",
            "150870               0              0                 1                     1   \n",
            "\n",
            "        PAIDUP_CAPITAL  \n",
            "0                  0.0  \n",
            "1                  0.0  \n",
            "2                  0.0  \n",
            "3                  0.0  \n",
            "4                  0.0  \n",
            "...                ...  \n",
            "150866        100000.0  \n",
            "150867        100000.0  \n",
            "150868         20000.0  \n",
            "150869       1500000.0  \n",
            "150870       1100000.0  \n",
            "\n",
            "[150871 rows x 5 columns]\n"
          ]
        }
      ],
      "source": [
        "print(X)"
      ]
    },
    {
      "cell_type": "markdown",
      "metadata": {
        "id": "DXh8oVSITIc6"
      },
      "source": [
        "### Encoding the Dependent Variable"
      ]
    },
    {
      "cell_type": "code",
      "execution_count": 26,
      "metadata": {
        "id": "XgHCShVyTOYY"
      },
      "outputs": [],
      "source": [
        "from sklearn.preprocessing import LabelEncoder\n",
        "le = LabelEncoder()\n",
        "Y = le.fit_transform(Y)"
      ]
    },
    {
      "cell_type": "code",
      "execution_count": 27,
      "metadata": {
        "colab": {
          "base_uri": "https://localhost:8080/"
        },
        "id": "FyhY8-gPpFCa",
        "outputId": "fd51d5da-fc85-4def-b3ce-219472e1d0bd"
      },
      "outputs": [
        {
          "output_type": "stream",
          "name": "stdout",
          "text": [
            "[  0   0   0 ...  41 295 238]\n"
          ]
        }
      ],
      "source": [
        "print(Y)"
      ]
    },
    {
      "cell_type": "code",
      "execution_count": 28,
      "metadata": {
        "id": "9gzIJmBM0cBs",
        "outputId": "c018f937-651c-455b-aeee-d7268c47204d",
        "colab": {
          "base_uri": "https://localhost:8080/",
          "height": 634
        }
      },
      "outputs": [
        {
          "output_type": "execute_result",
          "data": {
            "text/plain": [
              "<Axes: >"
            ]
          },
          "metadata": {},
          "execution_count": 28
        },
        {
          "output_type": "display_data",
          "data": {
            "text/plain": [
              "<Figure size 640x480 with 2 Axes>"
            ],
            "image/png": "[encoded data removed]"
          },
          "metadata": {}
        }
      ],
      "source": [
        "sns.heatmap(X,cmap = \"tab20\",center = 0)"
      ]
    },
    {
      "cell_type": "markdown",
      "metadata": {
        "id": "qb_vcgm3qZKW"
      },
      "source": [
        "## Splitting the dataset into the Training set and Test set"
      ]
    },
    {
      "cell_type": "code",
      "execution_count": 29,
      "metadata": {
        "id": "pXgA6CzlqbCl"
      },
      "outputs": [],
      "source": [
        "from sklearn.model_selection import train_test_split\n",
        "x_train, x_test, y_train, y_test = train_test_split(X, Y, test_size = 0.2, random_state = 1)"
      ]
    },
    {
      "cell_type": "code",
      "execution_count": 30,
      "metadata": {
        "colab": {
          "base_uri": "https://localhost:8080/"
        },
        "id": "GuwQhFdKrYTM",
        "outputId": "ead492cb-3f8b-43ba-b5a7-56459a1a34ef"
      },
      "outputs": [
        {
          "output_type": "stream",
          "name": "stdout",
          "text": [
            "        COMPANY_STATUS  COMPANY_CLASS  COMPANY_CATEGORY  COMPANY_SUB_CATEGORY  \\\n",
            "83926                0              0                 1                     1   \n",
            "9580                 0              0                 1                     1   \n",
            "58059                8              0                 1                     1   \n",
            "59354                8              2                 1                     1   \n",
            "107491               0              0                 1                     1   \n",
            "...                ...            ...               ...                   ...   \n",
            "73349                0              0                 1                     1   \n",
            "109259               8              0                 1                     1   \n",
            "50057                0              0                 1                     1   \n",
            "5192                 0              0                 1                     1   \n",
            "128037               0              0                 1                     1   \n",
            "\n",
            "        PAIDUP_CAPITAL  \n",
            "83926         200000.0  \n",
            "9580          100000.0  \n",
            "58059              0.0  \n",
            "59354         125000.0  \n",
            "107491        100000.0  \n",
            "...                ...  \n",
            "73349         100000.0  \n",
            "109259          1000.0  \n",
            "50057        1000000.0  \n",
            "5192         1000000.0  \n",
            "128037        100000.0  \n",
            "\n",
            "[120696 rows x 5 columns]\n"
          ]
        }
      ],
      "source": [
        "print(x_train)"
      ]
    },
    {
      "cell_type": "code",
      "execution_count": 31,
      "metadata": {
        "colab": {
          "base_uri": "https://localhost:8080/"
        },
        "id": "TUrX_Tvcrbi4",
        "outputId": "efc22f86-a43d-4677-8a66-7b35f6293b03"
      },
      "outputs": [
        {
          "output_type": "stream",
          "name": "stdout",
          "text": [
            "        COMPANY_STATUS  COMPANY_CLASS  COMPANY_CATEGORY  COMPANY_SUB_CATEGORY  \\\n",
            "101954               0              0                 1                     1   \n",
            "116472               8              0                 1                     1   \n",
            "24156                8              0                 1                     1   \n",
            "1287                 0              0                 1                     1   \n",
            "22085                8              0                 1                     1   \n",
            "...                ...            ...               ...                   ...   \n",
            "54578                0              1                 1                     1   \n",
            "88866                8              0                 1                     1   \n",
            "113825               8              2                 1                     1   \n",
            "102228               8              0                 1                     1   \n",
            "14104                0              0                 1                     1   \n",
            "\n",
            "        PAIDUP_CAPITAL  \n",
            "101954        100000.0  \n",
            "116472           200.0  \n",
            "24156       24000000.0  \n",
            "1287          100000.0  \n",
            "22085         100000.0  \n",
            "...                ...  \n",
            "54578         100000.0  \n",
            "88866         150000.0  \n",
            "113825        500000.0  \n",
            "102228        100000.0  \n",
            "14104         676000.0  \n",
            "\n",
            "[30175 rows x 5 columns]\n"
          ]
        }
      ],
      "source": [
        "print(x_test)"
      ]
    },
    {
      "cell_type": "code",
      "execution_count": 32,
      "metadata": {
        "colab": {
          "base_uri": "https://localhost:8080/"
        },
        "id": "pSMHiIsWreQY",
        "outputId": "4d4a06c0-3e4a-426f-c778-37b3da9b8215"
      },
      "outputs": [
        {
          "output_type": "stream",
          "name": "stdout",
          "text": [
            "[ 78  41  41 ... 185 185  41]\n"
          ]
        }
      ],
      "source": [
        "print(y_train)"
      ]
    },
    {
      "cell_type": "code",
      "execution_count": 33,
      "metadata": {
        "colab": {
          "base_uri": "https://localhost:8080/"
        },
        "id": "I_tW7H56rgtW",
        "outputId": "c649726c-2af4-418d-fd60-f9b0a3b782aa"
      },
      "outputs": [
        {
          "output_type": "stream",
          "name": "stdout",
          "text": [
            "[ 41 271 644 ... 295  41 471]\n"
          ]
        }
      ],
      "source": [
        "print(y_test)"
      ]
    },
    {
      "cell_type": "markdown",
      "metadata": {
        "id": "CrIM4WRd0cBu"
      },
      "source": [
        "# Training the Logistic Regression model on the Training set"
      ]
    },
    {
      "cell_type": "code",
      "execution_count": 34,
      "metadata": {
        "id": "lo9E0Gix0cBu"
      },
      "outputs": [],
      "source": [
        "from sklearn.linear_model import LogisticRegression"
      ]
    },
    {
      "cell_type": "code",
      "execution_count": 35,
      "metadata": {
        "id": "TinfwPJd0cBv"
      },
      "outputs": [],
      "source": [
        "classifier = LogisticRegression(random_state = 0)"
      ]
    },
    {
      "cell_type": "code",
      "execution_count": 36,
      "metadata": {
        "id": "FiTbGZUJ0cBv",
        "colab": {
          "base_uri": "https://localhost:8080/",
          "height": 218
        },
        "outputId": "2fb43309-b1fa-4758-d036-b55b4ff6bc5c"
      },
      "outputs": [
        {
          "output_type": "stream",
          "name": "stderr",
          "text": [
            "/usr/local/lib/python3.10/dist-packages/sklearn/linear_model/_logistic.py:458: ConvergenceWarning: lbfgs failed to converge (status=1):\n",
            "STOP: TOTAL NO. of ITERATIONS REACHED LIMIT.\n",
            "\n",
            "Increase the number of iterations (max_iter) or scale the data as shown in:\n",
            "    https://scikit-learn.org/stable/modules/preprocessing.html\n",
            "Please also refer to the documentation for alternative solver options:\n",
            "    https://scikit-learn.org/stable/modules/linear_model.html#logistic-regression\n",
            "  n_iter_i = _check_optimize_result(\n"
          ]
        },
        {
          "output_type": "execute_result",
          "data": {
            "text/plain": [
              "LogisticRegression(random_state=0)"
            ],
            "text/html": [
              "<style>#sk-container-id-1 {color: black;background-color: white;}#sk-container-id-1 pre{padding: 0;}#sk-container-id-1 div.sk-toggleable {background-color: white;}#sk-container-id-1 label.sk-toggleable__label {cursor: pointer;display: block;width: 100%;margin-bottom: 0;padding: 0.3em;box-sizing: border-box;text-align: center;}#sk-container-id-1 label.sk-toggleable__label-arrow:before {content: \"▸\";float: left;margin-right: 0.25em;color: #696969;}#sk-container-id-1 label.sk-toggleable__label-arrow:hover:before {color: black;}#sk-container-id-1 div.sk-estimator:hover label.sk-toggleable__label-arrow:before {color: black;}#sk-container-id-1 div.sk-toggleable__content {max-height: 0;max-width: 0;overflow: hidden;text-align: left;background-color: #f0f8ff;}#sk-container-id-1 div.sk-toggleable__content pre {margin: 0.2em;color: black;border-radius: 0.25em;background-color: #f0f8ff;}#sk-container-id-1 input.sk-toggleable__control:checked~div.sk-toggleable__content {max-height: 200px;max-width: 100%;overflow: auto;}#sk-container-id-1 input.sk-toggleable__control:checked~label.sk-toggleable__label-arrow:before {content: \"▾\";}#sk-container-id-1 div.sk-estimator input.sk-toggleable__control:checked~label.sk-toggleable__label {background-color: #d4ebff;}#sk-container-id-1 div.sk-label input.sk-toggleable__control:checked~label.sk-toggleable__label {background-color: #d4ebff;}#sk-container-id-1 input.sk-hidden--visually {border: 0;clip: rect(1px 1px 1px 1px);clip: rect(1px, 1px, 1px, 1px);height: 1px;margin: -1px;overflow: hidden;padding: 0;position: absolute;width: 1px;}#sk-container-id-1 div.sk-estimator {font-family: monospace;background-color: #f0f8ff;border: 1px dotted black;border-radius: 0.25em;box-sizing: border-box;margin-bottom: 0.5em;}#sk-container-id-1 div.sk-estimator:hover {background-color: #d4ebff;}#sk-container-id-1 div.sk-parallel-item::after {content: \"\";width: 100%;border-bottom: 1px solid gray;flex-grow: 1;}#sk-container-id-1 div.sk-label:hover label.sk-toggleable__label {background-color: #d4ebff;}#sk-container-id-1 div.sk-serial::before {content: \"\";position: absolute;border-left: 1px solid gray;box-sizing: border-box;top: 0;bottom: 0;left: 50%;z-index: 0;}#sk-container-id-1 div.sk-serial {display: flex;flex-direction: column;align-items: center;background-color: white;padding-right: 0.2em;padding-left: 0.2em;position: relative;}#sk-container-id-1 div.sk-item {position: relative;z-index: 1;}#sk-container-id-1 div.sk-parallel {display: flex;align-items: stretch;justify-content: center;background-color: white;position: relative;}#sk-container-id-1 div.sk-item::before, #sk-container-id-1 div.sk-parallel-item::before {content: \"\";position: absolute;border-left: 1px solid gray;box-sizing: border-box;top: 0;bottom: 0;left: 50%;z-index: -1;}#sk-container-id-1 div.sk-parallel-item {display: flex;flex-direction: column;z-index: 1;position: relative;background-color: white;}#sk-container-id-1 div.sk-parallel-item:first-child::after {align-self: flex-end;width: 50%;}#sk-container-id-1 div.sk-parallel-item:last-child::after {align-self: flex-start;width: 50%;}#sk-container-id-1 div.sk-parallel-item:only-child::after {width: 0;}#sk-container-id-1 div.sk-dashed-wrapped {border: 1px dashed gray;margin: 0 0.4em 0.5em 0.4em;box-sizing: border-box;padding-bottom: 0.4em;background-color: white;}#sk-container-id-1 div.sk-label label {font-family: monospace;font-weight: bold;display: inline-block;line-height: 1.2em;}#sk-container-id-1 div.sk-label-container {text-align: center;}#sk-container-id-1 div.sk-container {/* jupyter's `normalize.less` sets `[hidden] { display: none; }` but bootstrap.min.css set `[hidden] { display: none !important; }` so we also need the `!important` here to be able to override the default hidden behavior on the sphinx rendered scikit-learn.org. See: https://github.com/scikit-learn/scikit-learn/issues/21755 */display: inline-block !important;position: relative;}#sk-container-id-1 div.sk-text-repr-fallback {display: none;}</style><div id=\"sk-container-id-1\" class=\"sk-top-container\"><div class=\"sk-text-repr-fallback\"><pre>LogisticRegression(random_state=0)</pre><b>In a Jupyter environment, please rerun this cell to show the HTML representation or trust the notebook. <br />On GitHub, the HTML representation is unable to render, please try loading this page with nbviewer.org.</b></div><div class=\"sk-container\" hidden><div class=\"sk-item\"><div class=\"sk-estimator sk-toggleable\"><input class=\"sk-toggleable__control sk-hidden--visually\" id=\"sk-estimator-id-1\" type=\"checkbox\" checked><label for=\"sk-estimator-id-1\" class=\"sk-toggleable__label sk-toggleable__label-arrow\">LogisticRegression</label><div class=\"sk-toggleable__content\"><pre>LogisticRegression(random_state=0)</pre></div></div></div></div></div>"
            ]
          },
          "metadata": {},
          "execution_count": 36
        }
      ],
      "source": [
        "classifier.fit(x_train, y_train)"
      ]
    },
    {
      "cell_type": "markdown",
      "metadata": {
        "id": "9_mK6IHE0cBv"
      },
      "source": [
        "# Predicting the Test set results"
      ]
    },
    {
      "cell_type": "code",
      "execution_count": 38,
      "metadata": {
        "id": "IrrnFZnB0cBv",
        "colab": {
          "base_uri": "https://localhost:8080/"
        },
        "outputId": "ddef44eb-cade-4097-9c39-261ebc172902"
      },
      "outputs": [
        {
          "output_type": "stream",
          "name": "stdout",
          "text": [
            "[[1619   41]\n",
            " [1619  271]\n",
            " [1619  644]\n",
            " ...\n",
            " [1619  295]\n",
            " [1619   41]\n",
            " [1619  471]]\n"
          ]
        }
      ],
      "source": [
        "y_pred = classifier.predict(x_test)\n",
        "print(np.concatenate((y_pred.reshape(len(y_pred),1), y_test.reshape(len(y_test),1)),1))"
      ]
    },
    {
      "cell_type": "markdown",
      "metadata": {
        "id": "u2zJsU8n0cBv"
      },
      "source": [
        "# Making the Confusion Matrix"
      ]
    },
    {
      "cell_type": "code",
      "execution_count": 41,
      "metadata": {
        "id": "c8xjpqZg0cBw",
        "colab": {
          "base_uri": "https://localhost:8080/"
        },
        "outputId": "c1add270-a05e-4cc1-9c7c-de366d6984d2"
      },
      "outputs": [
        {
          "output_type": "stream",
          "name": "stdout",
          "text": [
            "[[0 0 0 ... 0 0 1]\n",
            " [0 0 0 ... 0 0 6]\n",
            " [0 0 0 ... 0 0 1]\n",
            " ...\n",
            " [0 0 0 ... 0 0 1]\n",
            " [0 0 0 ... 0 0 1]\n",
            " [0 0 0 ... 0 0 0]]\n"
          ]
        },
        {
          "output_type": "execute_result",
          "data": {
            "text/plain": [
              "0.023098591549295774"
            ]
          },
          "metadata": {},
          "execution_count": 41
        }
      ],
      "source": [
        "from sklearn.metrics import confusion_matrix, accuracy_score\n",
        "cm = confusion_matrix(y_test, y_pred)\n",
        "print(cm)\n",
        "accuracy_score(y_test, y_pred)"
      ]
    },
    {
      "cell_type": "code",
      "source": [
        "len(y_pred)"
      ],
      "metadata": {
        "colab": {
          "base_uri": "https://localhost:8080/"
        },
        "id": "d30H9Cm1Zt6Q",
        "outputId": "1fc3a101-ef57-426f-85a3-b1376ed122db"
      },
      "execution_count": 47,
      "outputs": [
        {
          "output_type": "execute_result",
          "data": {
            "text/plain": [
              "30175"
            ]
          },
          "metadata": {},
          "execution_count": 47
        }
      ]
    },
    {
      "cell_type": "code",
      "execution_count": 48,
      "metadata": {
        "id": "bLWAE34z0cBw",
        "colab": {
          "base_uri": "https://localhost:8080/",
          "height": 799
        },
        "outputId": "40478e7a-a6ea-4a25-a3bb-e7f33ab3daea"
      },
      "outputs": [
        {
          "output_type": "error",
          "ename": "ValueError",
          "evalue": "ignored",
          "traceback": [
            "\u001b[0;31m---------------------------------------------------------------------------\u001b[0m",
            "\u001b[0;31mValueError\u001b[0m                                Traceback (most recent call last)",
            "\u001b[0;32m<ipython-input-48-42005cee18f7>\u001b[0m in \u001b[0;36m<cell line: 7>\u001b[0;34m()\u001b[0m\n\u001b[1;32m      5\u001b[0m                                             display_labels=[False, True])\n\u001b[1;32m      6\u001b[0m \u001b[0;34m\u001b[0m\u001b[0m\n\u001b[0;32m----> 7\u001b[0;31m \u001b[0mcm_display\u001b[0m\u001b[0;34m.\u001b[0m\u001b[0mplot\u001b[0m\u001b[0;34m(\u001b[0m\u001b[0;34m)\u001b[0m\u001b[0;34m\u001b[0m\u001b[0;34m\u001b[0m\u001b[0m\n\u001b[0m\u001b[1;32m      8\u001b[0m \u001b[0mplt\u001b[0m\u001b[0;34m.\u001b[0m\u001b[0mshow\u001b[0m\u001b[0;34m(\u001b[0m\u001b[0;34m)\u001b[0m\u001b[0;34m\u001b[0m\u001b[0;34m\u001b[0m\u001b[0m\n",
            "\u001b[0;32m/usr/local/lib/python3.10/dist-packages/sklearn/metrics/_plot/confusion_matrix.py\u001b[0m in \u001b[0;36mplot\u001b[0;34m(self, include_values, cmap, xticks_rotation, values_format, ax, colorbar, im_kw, text_kw)\u001b[0m\n\u001b[1;32m    179\u001b[0m         \u001b[0;32mif\u001b[0m \u001b[0mcolorbar\u001b[0m\u001b[0;34m:\u001b[0m\u001b[0;34m\u001b[0m\u001b[0;34m\u001b[0m\u001b[0m\n\u001b[1;32m    180\u001b[0m             \u001b[0mfig\u001b[0m\u001b[0;34m.\u001b[0m\u001b[0mcolorbar\u001b[0m\u001b[0;34m(\u001b[0m\u001b[0mself\u001b[0m\u001b[0;34m.\u001b[0m\u001b[0mim_\u001b[0m\u001b[0;34m,\u001b[0m \u001b[0max\u001b[0m\u001b[0;34m=\u001b[0m\u001b[0max\u001b[0m\u001b[0;34m)\u001b[0m\u001b[0;34m\u001b[0m\u001b[0;34m\u001b[0m\u001b[0m\n\u001b[0;32m--> 181\u001b[0;31m         ax.set(\n\u001b[0m\u001b[1;32m    182\u001b[0m             \u001b[0mxticks\u001b[0m\u001b[0;34m=\u001b[0m\u001b[0mnp\u001b[0m\u001b[0;34m.\u001b[0m\u001b[0marange\u001b[0m\u001b[0;34m(\u001b[0m\u001b[0mn_classes\u001b[0m\u001b[0;34m)\u001b[0m\u001b[0;34m,\u001b[0m\u001b[0;34m\u001b[0m\u001b[0;34m\u001b[0m\u001b[0m\n\u001b[1;32m    183\u001b[0m             \u001b[0myticks\u001b[0m\u001b[0;34m=\u001b[0m\u001b[0mnp\u001b[0m\u001b[0;34m.\u001b[0m\u001b[0marange\u001b[0m\u001b[0;34m(\u001b[0m\u001b[0mn_classes\u001b[0m\u001b[0;34m)\u001b[0m\u001b[0;34m,\u001b[0m\u001b[0;34m\u001b[0m\u001b[0;34m\u001b[0m\u001b[0m\n",
            "\u001b[0;32m/usr/local/lib/python3.10/dist-packages/matplotlib/artist.py\u001b[0m in \u001b[0;36m<lambda>\u001b[0;34m(self, **kwargs)\u001b[0m\n\u001b[1;32m    145\u001b[0m             \u001b[0;32mreturn\u001b[0m\u001b[0;34m\u001b[0m\u001b[0;34m\u001b[0m\u001b[0m\n\u001b[1;32m    146\u001b[0m \u001b[0;34m\u001b[0m\u001b[0m\n\u001b[0;32m--> 147\u001b[0;31m         \u001b[0mcls\u001b[0m\u001b[0;34m.\u001b[0m\u001b[0mset\u001b[0m \u001b[0;34m=\u001b[0m \u001b[0;32mlambda\u001b[0m \u001b[0mself\u001b[0m\u001b[0;34m,\u001b[0m \u001b[0;34m**\u001b[0m\u001b[0mkwargs\u001b[0m\u001b[0;34m:\u001b[0m \u001b[0mArtist\u001b[0m\u001b[0;34m.\u001b[0m\u001b[0mset\u001b[0m\u001b[0;34m(\u001b[0m\u001b[0mself\u001b[0m\u001b[0;34m,\u001b[0m \u001b[0;34m**\u001b[0m\u001b[0mkwargs\u001b[0m\u001b[0;34m)\u001b[0m\u001b[0;34m\u001b[0m\u001b[0;34m\u001b[0m\u001b[0m\n\u001b[0m\u001b[1;32m    148\u001b[0m         \u001b[0mcls\u001b[0m\u001b[0;34m.\u001b[0m\u001b[0mset\u001b[0m\u001b[0;34m.\u001b[0m\u001b[0m__name__\u001b[0m \u001b[0;34m=\u001b[0m \u001b[0;34m\"set\"\u001b[0m\u001b[0;34m\u001b[0m\u001b[0;34m\u001b[0m\u001b[0m\n\u001b[1;32m    149\u001b[0m         \u001b[0mcls\u001b[0m\u001b[0;34m.\u001b[0m\u001b[0mset\u001b[0m\u001b[0;34m.\u001b[0m\u001b[0m__qualname__\u001b[0m \u001b[0;34m=\u001b[0m \u001b[0;34mf\"{cls.__qualname__}.set\"\u001b[0m\u001b[0;34m\u001b[0m\u001b[0;34m\u001b[0m\u001b[0m\n",
            "\u001b[0;32m/usr/local/lib/python3.10/dist-packages/matplotlib/artist.py\u001b[0m in \u001b[0;36mset\u001b[0;34m(self, **kwargs)\u001b[0m\n\u001b[1;32m   1229\u001b[0m         \u001b[0;31m# Artist._update_set_signature_and_docstring() at the end of the\u001b[0m\u001b[0;34m\u001b[0m\u001b[0;34m\u001b[0m\u001b[0m\n\u001b[1;32m   1230\u001b[0m         \u001b[0;31m# module.\u001b[0m\u001b[0;34m\u001b[0m\u001b[0;34m\u001b[0m\u001b[0m\n\u001b[0;32m-> 1231\u001b[0;31m         \u001b[0;32mreturn\u001b[0m \u001b[0mself\u001b[0m\u001b[0;34m.\u001b[0m\u001b[0m_internal_update\u001b[0m\u001b[0;34m(\u001b[0m\u001b[0mcbook\u001b[0m\u001b[0;34m.\u001b[0m\u001b[0mnormalize_kwargs\u001b[0m\u001b[0;34m(\u001b[0m\u001b[0mkwargs\u001b[0m\u001b[0;34m,\u001b[0m \u001b[0mself\u001b[0m\u001b[0;34m)\u001b[0m\u001b[0;34m)\u001b[0m\u001b[0;34m\u001b[0m\u001b[0;34m\u001b[0m\u001b[0m\n\u001b[0m\u001b[1;32m   1232\u001b[0m \u001b[0;34m\u001b[0m\u001b[0m\n\u001b[1;32m   1233\u001b[0m     \u001b[0;34m@\u001b[0m\u001b[0mcontextlib\u001b[0m\u001b[0;34m.\u001b[0m\u001b[0mcontextmanager\u001b[0m\u001b[0;34m\u001b[0m\u001b[0;34m\u001b[0m\u001b[0m\n",
            "\u001b[0;32m/usr/local/lib/python3.10/dist-packages/matplotlib/artist.py\u001b[0m in \u001b[0;36m_internal_update\u001b[0;34m(self, kwargs)\u001b[0m\n\u001b[1;32m   1221\u001b[0m         \u001b[0mThe\u001b[0m \u001b[0mlack\u001b[0m \u001b[0mof\u001b[0m \u001b[0mprenormalization\u001b[0m \u001b[0;32mis\u001b[0m \u001b[0mto\u001b[0m \u001b[0mmaintain\u001b[0m \u001b[0mbackcompatibility\u001b[0m\u001b[0;34m.\u001b[0m\u001b[0;34m\u001b[0m\u001b[0;34m\u001b[0m\u001b[0m\n\u001b[1;32m   1222\u001b[0m         \"\"\"\n\u001b[0;32m-> 1223\u001b[0;31m         return self._update_props(\n\u001b[0m\u001b[1;32m   1224\u001b[0m             \u001b[0mkwargs\u001b[0m\u001b[0;34m,\u001b[0m \u001b[0;34m\"{cls.__name__}.set() got an unexpected keyword argument \"\u001b[0m\u001b[0;34m\u001b[0m\u001b[0;34m\u001b[0m\u001b[0m\n\u001b[1;32m   1225\u001b[0m             \"{prop_name!r}\")\n",
            "\u001b[0;32m/usr/local/lib/python3.10/dist-packages/matplotlib/artist.py\u001b[0m in \u001b[0;36m_update_props\u001b[0;34m(self, props, errfmt)\u001b[0m\n\u001b[1;32m   1197\u001b[0m                         raise AttributeError(\n\u001b[1;32m   1198\u001b[0m                             errfmt.format(cls=type(self), prop_name=k))\n\u001b[0;32m-> 1199\u001b[0;31m                     \u001b[0mret\u001b[0m\u001b[0;34m.\u001b[0m\u001b[0mappend\u001b[0m\u001b[0;34m(\u001b[0m\u001b[0mfunc\u001b[0m\u001b[0;34m(\u001b[0m\u001b[0mv\u001b[0m\u001b[0;34m)\u001b[0m\u001b[0;34m)\u001b[0m\u001b[0;34m\u001b[0m\u001b[0;34m\u001b[0m\u001b[0m\n\u001b[0m\u001b[1;32m   1200\u001b[0m         \u001b[0;32mif\u001b[0m \u001b[0mret\u001b[0m\u001b[0;34m:\u001b[0m\u001b[0;34m\u001b[0m\u001b[0;34m\u001b[0m\u001b[0m\n\u001b[1;32m   1201\u001b[0m             \u001b[0mself\u001b[0m\u001b[0;34m.\u001b[0m\u001b[0mpchanged\u001b[0m\u001b[0;34m(\u001b[0m\u001b[0;34m)\u001b[0m\u001b[0;34m\u001b[0m\u001b[0;34m\u001b[0m\u001b[0m\n",
            "\u001b[0;32m/usr/local/lib/python3.10/dist-packages/matplotlib/axes/_base.py\u001b[0m in \u001b[0;36mwrapper\u001b[0;34m(self, *args, **kwargs)\u001b[0m\n\u001b[1;32m     72\u001b[0m \u001b[0;34m\u001b[0m\u001b[0m\n\u001b[1;32m     73\u001b[0m         \u001b[0;32mdef\u001b[0m \u001b[0mwrapper\u001b[0m\u001b[0;34m(\u001b[0m\u001b[0mself\u001b[0m\u001b[0;34m,\u001b[0m \u001b[0;34m*\u001b[0m\u001b[0margs\u001b[0m\u001b[0;34m,\u001b[0m \u001b[0;34m**\u001b[0m\u001b[0mkwargs\u001b[0m\u001b[0;34m)\u001b[0m\u001b[0;34m:\u001b[0m\u001b[0;34m\u001b[0m\u001b[0;34m\u001b[0m\u001b[0m\n\u001b[0;32m---> 74\u001b[0;31m             \u001b[0;32mreturn\u001b[0m \u001b[0mget_method\u001b[0m\u001b[0;34m(\u001b[0m\u001b[0mself\u001b[0m\u001b[0;34m)\u001b[0m\u001b[0;34m(\u001b[0m\u001b[0;34m*\u001b[0m\u001b[0margs\u001b[0m\u001b[0;34m,\u001b[0m \u001b[0;34m**\u001b[0m\u001b[0mkwargs\u001b[0m\u001b[0;34m)\u001b[0m\u001b[0;34m\u001b[0m\u001b[0;34m\u001b[0m\u001b[0m\n\u001b[0m\u001b[1;32m     75\u001b[0m \u001b[0;34m\u001b[0m\u001b[0m\n\u001b[1;32m     76\u001b[0m         \u001b[0mwrapper\u001b[0m\u001b[0;34m.\u001b[0m\u001b[0m__module__\u001b[0m \u001b[0;34m=\u001b[0m \u001b[0mowner\u001b[0m\u001b[0;34m.\u001b[0m\u001b[0m__module__\u001b[0m\u001b[0;34m\u001b[0m\u001b[0;34m\u001b[0m\u001b[0m\n",
            "\u001b[0;32m/usr/local/lib/python3.10/dist-packages/matplotlib/_api/deprecation.py\u001b[0m in \u001b[0;36mwrapper\u001b[0;34m(*args, **kwargs)\u001b[0m\n\u001b[1;32m    295\u001b[0m                 f\"for the old name will be dropped %(removal)s.\")\n\u001b[1;32m    296\u001b[0m             \u001b[0mkwargs\u001b[0m\u001b[0;34m[\u001b[0m\u001b[0mnew\u001b[0m\u001b[0;34m]\u001b[0m \u001b[0;34m=\u001b[0m \u001b[0mkwargs\u001b[0m\u001b[0;34m.\u001b[0m\u001b[0mpop\u001b[0m\u001b[0;34m(\u001b[0m\u001b[0mold\u001b[0m\u001b[0;34m)\u001b[0m\u001b[0;34m\u001b[0m\u001b[0;34m\u001b[0m\u001b[0m\n\u001b[0;32m--> 297\u001b[0;31m         \u001b[0;32mreturn\u001b[0m \u001b[0mfunc\u001b[0m\u001b[0;34m(\u001b[0m\u001b[0;34m*\u001b[0m\u001b[0margs\u001b[0m\u001b[0;34m,\u001b[0m \u001b[0;34m**\u001b[0m\u001b[0mkwargs\u001b[0m\u001b[0;34m)\u001b[0m\u001b[0;34m\u001b[0m\u001b[0;34m\u001b[0m\u001b[0m\n\u001b[0m\u001b[1;32m    298\u001b[0m \u001b[0;34m\u001b[0m\u001b[0m\n\u001b[1;32m    299\u001b[0m     \u001b[0;31m# wrapper() must keep the same documented signature as func(): if we\u001b[0m\u001b[0;34m\u001b[0m\u001b[0;34m\u001b[0m\u001b[0m\n",
            "\u001b[0;32m/usr/local/lib/python3.10/dist-packages/matplotlib/axis.py\u001b[0m in \u001b[0;36mset_ticklabels\u001b[0;34m(self, labels, minor, fontdict, **kwargs)\u001b[0m\n\u001b[1;32m   1967\u001b[0m             \u001b[0;31m# remove all tick labels, so only error for > 0 labels\u001b[0m\u001b[0;34m\u001b[0m\u001b[0;34m\u001b[0m\u001b[0m\n\u001b[1;32m   1968\u001b[0m             \u001b[0;32mif\u001b[0m \u001b[0mlen\u001b[0m\u001b[0;34m(\u001b[0m\u001b[0mlocator\u001b[0m\u001b[0;34m.\u001b[0m\u001b[0mlocs\u001b[0m\u001b[0;34m)\u001b[0m \u001b[0;34m!=\u001b[0m \u001b[0mlen\u001b[0m\u001b[0;34m(\u001b[0m\u001b[0mlabels\u001b[0m\u001b[0;34m)\u001b[0m \u001b[0;32mand\u001b[0m \u001b[0mlen\u001b[0m\u001b[0;34m(\u001b[0m\u001b[0mlabels\u001b[0m\u001b[0;34m)\u001b[0m \u001b[0;34m!=\u001b[0m \u001b[0;36m0\u001b[0m\u001b[0;34m:\u001b[0m\u001b[0;34m\u001b[0m\u001b[0;34m\u001b[0m\u001b[0m\n\u001b[0;32m-> 1969\u001b[0;31m                 raise ValueError(\n\u001b[0m\u001b[1;32m   1970\u001b[0m                     \u001b[0;34m\"The number of FixedLocator locations\"\u001b[0m\u001b[0;34m\u001b[0m\u001b[0;34m\u001b[0m\u001b[0m\n\u001b[1;32m   1971\u001b[0m                     \u001b[0;34mf\" ({len(locator.locs)}), usually from a call to\"\u001b[0m\u001b[0;34m\u001b[0m\u001b[0;34m\u001b[0m\u001b[0m\n",
            "\u001b[0;31mValueError\u001b[0m: The number of FixedLocator locations (30), usually from a call to set_ticks, does not match the number of labels (2)."
          ]
        },
        {
          "output_type": "display_data",
          "data": {
            "text/plain": [
              "<Figure size 640x480 with 2 Axes>"
            ],
            "image/png": "[encoded data removed]"
          },
          "metadata": {}
        }
      ],
      "source": [
        "from sklearn import metrics\n",
        "cm = metrics.confusion_matrix(y_test[:100], y_pred[:100])\n",
        "\n",
        "cm_display = metrics.ConfusionMatrixDisplay(confusion_matrix=cm,\n",
        "                                            display_labels=[False, True])\n",
        "\n",
        "cm_display.plot()\n",
        "plt.show()\n"
      ]
    },
    {
      "cell_type": "code",
      "execution_count": 51,
      "metadata": {
        "id": "Ia-VHcJY0cBy"
      },
      "outputs": [],
      "source": [
        "from sklearn.model_selection import cross_validate as cv\n",
        "from sklearn.metrics import accuracy_score ,confusion_matrix ,precision_score ,recall_score ,f1_score"
      ]
    },
    {
      "cell_type": "code",
      "source": [
        "y_test = y_test[:100]\n",
        "y_pred = y_pred[:100]"
      ],
      "metadata": {
        "id": "Uo_R8fRAbZvn"
      },
      "execution_count": 64,
      "outputs": []
    },
    {
      "cell_type": "code",
      "source": [
        "y_test.reshape(1,-1)"
      ],
      "metadata": {
        "colab": {
          "base_uri": "https://localhost:8080/"
        },
        "id": "jVaitze2cQCG",
        "outputId": "e1ee8eb9-18cd-414a-fd81-583490d60744"
      },
      "execution_count": 72,
      "outputs": [
        {
          "output_type": "execute_result",
          "data": {
            "text/plain": [
              "array([[1619, 1619, 1619, 1619, 1619, 1619, 1619, 1619, 1619,   41, 1619,\n",
              "        1619, 1619,   41, 1619, 1619, 1619, 1619, 1619, 1619, 1619, 1619,\n",
              "        1619, 1619, 1619, 1619, 1619, 1619, 1619, 1619, 1619, 1619, 1619,\n",
              "        1619,   41, 1619, 1619, 1619, 1619, 1619, 1619,   41, 1619, 1619,\n",
              "        1619,   41, 1619, 1619, 1619,   41, 1619, 1619, 1619, 1619, 1619,\n",
              "        1619, 1619, 1619, 1619, 1619, 1619, 1619, 1619, 1619, 1619, 1619,\n",
              "        1619, 1619, 1619, 1619, 1619, 1619, 1619, 1619,   41, 1619, 1619,\n",
              "        1619, 1619, 1619, 1619, 1619, 1619, 1619, 1619, 1619, 1619,   41,\n",
              "        1619, 1619, 1619,   41, 1619, 1619, 1619, 1619, 1619, 1619, 1619,\n",
              "        1619]])"
            ]
          },
          "metadata": {},
          "execution_count": 72
        }
      ]
    },
    {
      "cell_type": "code",
      "source": [
        "y_pred.reshape(1,-1)"
      ],
      "metadata": {
        "colab": {
          "base_uri": "https://localhost:8080/"
        },
        "id": "EmF1dJUccv19",
        "outputId": "29605e6e-5fb0-44df-ecd2-fba3a353b798"
      },
      "execution_count": 73,
      "outputs": [
        {
          "output_type": "execute_result",
          "data": {
            "text/plain": [
              "array([[1619, 1619, 1619, 1619, 1619, 1619, 1619, 1619, 1619,   41, 1619,\n",
              "        1619, 1619,   41, 1619, 1619, 1619, 1619, 1619, 1619, 1619, 1619,\n",
              "        1619, 1619, 1619, 1619, 1619, 1619, 1619, 1619, 1619, 1619, 1619,\n",
              "        1619,   41, 1619, 1619, 1619, 1619, 1619, 1619,   41, 1619, 1619,\n",
              "        1619,   41, 1619, 1619, 1619,   41, 1619, 1619, 1619, 1619, 1619,\n",
              "        1619, 1619, 1619, 1619, 1619, 1619, 1619, 1619, 1619, 1619, 1619,\n",
              "        1619, 1619, 1619, 1619, 1619, 1619, 1619, 1619,   41, 1619, 1619,\n",
              "        1619, 1619, 1619, 1619, 1619, 1619, 1619, 1619, 1619, 1619,   41,\n",
              "        1619, 1619, 1619,   41, 1619, 1619, 1619, 1619, 1619, 1619, 1619,\n",
              "        1619]])"
            ]
          },
          "metadata": {},
          "execution_count": 73
        }
      ]
    },
    {
      "cell_type": "code",
      "execution_count": 82,
      "metadata": {
        "id": "GyX7oQGS0cBz",
        "colab": {
          "base_uri": "https://localhost:8080/"
        },
        "outputId": "8c28d00a-6913-40f2-af32-70b3f70be1ad"
      },
      "outputs": [
        {
          "output_type": "stream",
          "name": "stdout",
          "text": [
            "Train Accuracy :  3.0\n"
          ]
        }
      ],
      "source": [
        "print(\"Train Accuracy : \",accuracy_score(y_pred,y_train[:100])*100)"
      ]
    },
    {
      "cell_type": "code",
      "execution_count": 83,
      "metadata": {
        "id": "CerotFFE0cBz",
        "colab": {
          "base_uri": "https://localhost:8080/"
        },
        "outputId": "4460a547-c78c-4ea8-b2f9-1bd68bcbd8aa"
      },
      "outputs": [
        {
          "output_type": "stream",
          "name": "stdout",
          "text": [
            "Test Accuracy :  100.0\n"
          ]
        }
      ],
      "source": [
        "print(\"Test Accuracy : \",accuracy_score(y_pred,y_test)*100)"
      ]
    },
    {
      "cell_type": "code",
      "execution_count": 84,
      "metadata": {
        "id": "8_vy6CrK0cBz",
        "colab": {
          "base_uri": "https://localhost:8080/"
        },
        "outputId": "8c22800c-7c40-4b54-ff56-c1842e65095c"
      },
      "outputs": [
        {
          "output_type": "execute_result",
          "data": {
            "text/plain": [
              "array([[ 9,  0],\n",
              "       [ 0, 91]])"
            ]
          },
          "metadata": {},
          "execution_count": 84
        }
      ],
      "source": [
        "confusion_matrix(y_pred,y_test)"
      ]
    },
    {
      "cell_type": "code",
      "execution_count": 95,
      "metadata": {
        "id": "N3QVPxd30cBz",
        "colab": {
          "base_uri": "https://localhost:8080/"
        },
        "outputId": "851e7611-30ec-4eab-e9c0-921958304fd2"
      },
      "outputs": [
        {
          "output_type": "stream",
          "name": "stderr",
          "text": [
            "/usr/local/lib/python3.10/dist-packages/sklearn/metrics/_classification.py:1396: UserWarning: Note that pos_label (set to 'PAID_OFF') is ignored when average != 'binary' (got 'weighted'). You may use labels=[pos_label] to specify a single positive class.\n",
            "  warnings.warn(\n"
          ]
        },
        {
          "output_type": "execute_result",
          "data": {
            "text/plain": [
              "100.0"
            ]
          },
          "metadata": {},
          "execution_count": 95
        }
      ],
      "source": [
        "precision_score(y_pred,y_test,average = 'weighted', pos_label=\"PAID_OFF\")*100"
      ]
    },
    {
      "cell_type": "code",
      "execution_count": 94,
      "metadata": {
        "id": "OhUePBza0cBz",
        "colab": {
          "base_uri": "https://localhost:8080/"
        },
        "outputId": "e7263101-0cac-4b20-c0c1-6beaf8edfc9d"
      },
      "outputs": [
        {
          "output_type": "stream",
          "name": "stderr",
          "text": [
            "/usr/local/lib/python3.10/dist-packages/sklearn/metrics/_classification.py:1396: UserWarning: Note that pos_label (set to 'PAID_OFF') is ignored when average != 'binary' (got 'weighted'). You may use labels=[pos_label] to specify a single positive class.\n",
            "  warnings.warn(\n"
          ]
        },
        {
          "output_type": "execute_result",
          "data": {
            "text/plain": [
              "100.0"
            ]
          },
          "metadata": {},
          "execution_count": 94
        }
      ],
      "source": [
        "recall_score(y_test,y_pred,average = 'weighted', pos_label=\"PAID_OFF\")*100"
      ]
    },
    {
      "cell_type": "code",
      "execution_count": 93,
      "metadata": {
        "id": "vvmcuueA0cBz",
        "colab": {
          "base_uri": "https://localhost:8080/"
        },
        "outputId": "983bc277-4429-48b4-f092-3e28711a2fc3"
      },
      "outputs": [
        {
          "output_type": "stream",
          "name": "stderr",
          "text": [
            "/usr/local/lib/python3.10/dist-packages/sklearn/metrics/_classification.py:1396: UserWarning: Note that pos_label (set to 'PAID_OFF') is ignored when average != 'binary' (got 'weighted'). You may use labels=[pos_label] to specify a single positive class.\n",
            "  warnings.warn(\n"
          ]
        },
        {
          "output_type": "execute_result",
          "data": {
            "text/plain": [
              "100.0"
            ]
          },
          "metadata": {},
          "execution_count": 93
        }
      ],
      "source": [
        "f1_score(y_test,y_pred, average = 'weighted', pos_label=\"PAID_OFF\")*100"
      ]
    },
    {
      "cell_type": "code",
      "source": [],
      "metadata": {
        "id": "ZeVrU_21e_rM"
      },
      "execution_count": null,
      "outputs": []
    }
  ],
  "metadata": {
    "colab": {
      "provenance": []
    },
    "kernelspec": {
      "display_name": "Python 3 (ipykernel)",
      "language": "python",
      "name": "python3"
    },
    "language_info": {
      "codemirror_mode": {
        "name": "ipython",
        "version": 3
      },
      "file_extension": ".py",
      "mimetype": "text/x-python",
      "name": "python",
      "nbconvert_exporter": "python",
      "pygments_lexer": "ipython3",
      "version": "3.11.5"
    }
  },
  "nbformat": 4,
  "nbformat_minor": 0
}